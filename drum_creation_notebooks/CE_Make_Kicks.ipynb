{
 "cells": [
  {
   "cell_type": "code",
   "execution_count": 38,
   "id": "95dfb91f",
   "metadata": {},
   "outputs": [],
   "source": [
    "# IMPORTS\n",
    "\n",
    "import numpy as np\n",
    "from glob import glob\n",
    "import noisereduce as nr\n",
    "import random\n",
    "import librosa.display\n",
    "import IPython\n",
    "from tensorflow.keras import layers\n",
    "from tensorflow.keras import Model\n",
    "from tensorflow.keras import backend as k\n",
    "import tensorflow as tf\n",
    "from tensorflow.keras import losses\n",
    "from tensorflow.keras.callbacks import EarlyStopping\n"
   ]
  },
  {
   "cell_type": "code",
   "execution_count": 39,
   "id": "65106df3",
   "metadata": {},
   "outputs": [],
   "source": [
    "# DIRECTORY CONTAINING PREPROCESSED KICK SPECTROGRAMS\n",
    "data_dir = '/Volumes/CE_CADDY/TRAINING_SAMPLES/Kicks_Preprocessed_0.5s'"
   ]
  },
  {
   "cell_type": "code",
   "execution_count": 40,
   "id": "d7e66c6f",
   "metadata": {},
   "outputs": [],
   "source": [
    "# FUNCTIONS\n",
    "\n",
    "## LOAD DATA\n",
    "def load_data(path):\n",
    "    X = []\n",
    "    \n",
    "    audiofiles = glob(data_dir + '/*.wav.npy')\n",
    "    \n",
    "    for file in audiofiles:\n",
    "        \n",
    "        X.append(np.load(file))\n",
    "        \n",
    "        \n",
    "    return np.array(X)\n",
    "\n",
    "## REMOVE NANS FROM DATA\n",
    "def remove_nans(data):\n",
    "    if np.isnan(data).sum() > 0:\n",
    "        a = data.shape[1]\n",
    "        b = data.shape[2]\n",
    "        good_data_total = int(data.shape[0] - (np.isnan(data).sum() / (a * b)))\n",
    "        data = data[~np.isnan(data)]\n",
    "        data = data.reshape(good_data_total, a,b)\n",
    "        return data\n",
    "    return data\n",
    "\n",
    "## POST-PROCESS AND PLAY GENERATED SPECTROGRAMS\n",
    "def postproc_and_play(generated_spectrogram):\n",
    "    #sample rate\n",
    "    sr = 48000\n",
    "    # random value to pitch down sample\n",
    "    pdown = random.uniform(-30, -16)\n",
    "    # spectrogram back to audio\n",
    "    new_kick = librosa.griffinlim(generated_spectrogram, n_iter=32, hop_length=300)\n",
    "    # noise reduction on audio\n",
    "    new_kick_nr = nr.reduce_noise(y=new_kick, sr=sr, stationary=True)\n",
    "    # pitch down audio by random amount\n",
    "    new_kick_final = librosa.effects.pitch_shift(new_kick_nr, sr=sr, n_steps = pdown, bins_per_octave=16, res_type='kaiser_best')\n",
    "    # display waveform and return player for audio file\n",
    "    librosa.display.waveshow(new_kick_final,sr=sr)\n",
    "    return IPython.display.Audio(new_kick_final, rate=sr)"
   ]
  },
  {
   "cell_type": "code",
   "execution_count": 41,
   "id": "d0ad92cd",
   "metadata": {},
   "outputs": [],
   "source": [
    "# LOAD DATA\n",
    "data = load_data(data_dir)"
   ]
  },
  {
   "cell_type": "code",
   "execution_count": 42,
   "id": "e722bc01",
   "metadata": {},
   "outputs": [
    {
     "data": {
      "text/plain": [
       "(6561, 256, 94)"
      ]
     },
     "execution_count": 42,
     "metadata": {},
     "output_type": "execute_result"
    }
   ],
   "source": [
    "# CHECK DATA SHAPE BEFORE REMOVING NANS\n",
    "data.shape"
   ]
  },
  {
   "cell_type": "code",
   "execution_count": 43,
   "id": "232b428f",
   "metadata": {},
   "outputs": [
    {
     "data": {
      "text/plain": [
       "0"
      ]
     },
     "execution_count": 43,
     "metadata": {},
     "output_type": "execute_result"
    }
   ],
   "source": [
    "# CHECK NANS IN DATA\n",
    "np.isnan(data).sum()"
   ]
  },
  {
   "cell_type": "code",
   "execution_count": 44,
   "id": "a36121b9",
   "metadata": {},
   "outputs": [],
   "source": [
    "# REMOVE NANS\n",
    "data = remove_nans(data)"
   ]
  },
  {
   "cell_type": "code",
   "execution_count": 45,
   "id": "df20372f",
   "metadata": {},
   "outputs": [],
   "source": [
    "# CREATE TRAINING AND VALIDATION SETS\n",
    "X_train = data[:5000, :, :]\n",
    "X_valid = data[5000:6560, :, :]"
   ]
  },
  {
   "cell_type": "markdown",
   "id": "229ca5c0",
   "metadata": {},
   "source": [
    "Sampling layer which is called later in the function, takes in mean and log_var and randomly samples the coding from normal distribution."
   ]
  },
  {
   "cell_type": "code",
   "execution_count": 46,
   "id": "032aee95",
   "metadata": {},
   "outputs": [],
   "source": [
    "class Sampling(layers.Layer):\n",
    "    def call(self, inputs):\n",
    "        mean, log_var = inputs\n",
    "        return k.random_normal(tf.shape(log_var)) * k.exp(log_var/2) + mean"
   ]
  },
  {
   "cell_type": "code",
   "execution_count": 47,
   "id": "e21c790e",
   "metadata": {},
   "outputs": [],
   "source": [
    "codings_size = 10"
   ]
  },
  {
   "cell_type": "code",
   "execution_count": 63,
   "id": "95011285",
   "metadata": {},
   "outputs": [],
   "source": [
    "w = data.shape[1]\n",
    "h = data.shape[2]"
   ]
  },
  {
   "cell_type": "code",
   "execution_count": 64,
   "id": "360f5dc4",
   "metadata": {},
   "outputs": [
    {
     "data": {
      "text/plain": [
       "256"
      ]
     },
     "execution_count": 64,
     "metadata": {},
     "output_type": "execute_result"
    }
   ],
   "source": [
    "w"
   ]
  },
  {
   "cell_type": "code",
   "execution_count": 65,
   "id": "f347f964",
   "metadata": {},
   "outputs": [
    {
     "data": {
      "text/plain": [
       "94"
      ]
     },
     "execution_count": 65,
     "metadata": {},
     "output_type": "execute_result"
    }
   ],
   "source": [
    "h"
   ]
  },
  {
   "cell_type": "markdown",
   "id": "dc7bf391",
   "metadata": {},
   "source": [
    "encoder, mean and log_var take in same input from second layer hense not being sequential"
   ]
  },
  {
   "cell_type": "code",
   "execution_count": 66,
   "id": "f224b657",
   "metadata": {},
   "outputs": [],
   "source": [
    "inputs = layers.Input(shape=[w,h])\n",
    "z = layers.Flatten()(inputs)\n",
    "z = layers.Dense(150, activation='selu')(z)\n",
    "z = layers.Dense(100, activation='selu')(z)\n",
    "codings_mean = layers.Dense(codings_size)(z)\n",
    "codings_log_var = layers.Dense(codings_size)(z)\n",
    "codings = Sampling()([codings_mean,codings_log_var])\n",
    "variational_encoder = Model(\n",
    "inputs=[inputs], outputs=[codings_mean, codings_log_var, codings])"
   ]
  },
  {
   "cell_type": "markdown",
   "id": "b8705fdb",
   "metadata": {},
   "source": [
    "decoder"
   ]
  },
  {
   "cell_type": "code",
   "execution_count": 69,
   "id": "12600d6c",
   "metadata": {},
   "outputs": [],
   "source": [
    "decoder_inputs = layers.Input(shape=[codings_size])\n",
    "x = layers.Dense(100, activation='selu')(decoder_inputs)\n",
    "x = layers.Dense(150, activation='selu')(x)\n",
    "x = layers.Dense(w * h, activation='sigmoid')(x)\n",
    "outputs = layers.Reshape([w, h])(x)\n",
    "variational_decoder = Model(inputs=[decoder_inputs], outputs=[outputs])"
   ]
  },
  {
   "cell_type": "code",
   "execution_count": 70,
   "id": "13f4ffe7",
   "metadata": {},
   "outputs": [],
   "source": [
    "_,_,codings = variational_encoder(inputs)\n",
    "reconstructions = variational_decoder(codings)\n",
    "variational_ae = Model(inputs=[inputs], outputs=[reconstructions])"
   ]
  },
  {
   "cell_type": "code",
   "execution_count": 71,
   "id": "818c8357",
   "metadata": {},
   "outputs": [],
   "source": [
    "latent_loss = -0.5 * k.sum(\n",
    "1 + codings_log_var - k.exp(codings_log_var) - k.square(codings_mean),\n",
    "axis=-1)\n",
    "variational_ae.add_loss(k.mean(latent_loss)/w*h)\n",
    "variational_ae.compile(loss='binary_crossentropy', optimizer='rmsprop')"
   ]
  },
  {
   "cell_type": "code",
   "execution_count": 16,
   "id": "7c441b92",
   "metadata": {},
   "outputs": [],
   "source": [
    "# variational_ae.summary()"
   ]
  },
  {
   "cell_type": "code",
   "execution_count": 72,
   "id": "4b6313ff",
   "metadata": {},
   "outputs": [],
   "source": [
    "# SOME VARIABLES FOR GENERATION\n",
    "hop_length = 300\n",
    "win_length = 1200\n",
    "sr = 48000\n",
    "s_devs = 1"
   ]
  },
  {
   "cell_type": "code",
   "execution_count": 54,
   "id": "2fa424ee",
   "metadata": {
    "scrolled": true
   },
   "outputs": [
    {
     "name": "stdout",
     "output_type": "stream",
     "text": [
      "Epoch 1/100\n",
      "40/40 [==============================] - 9s 186ms/step - loss: 13379843391488.0000 - val_loss: 8.1887\n",
      "Epoch 2/100\n",
      "40/40 [==============================] - 7s 179ms/step - loss: 20.4277 - val_loss: 5.6758\n",
      "Epoch 3/100\n",
      "40/40 [==============================] - 7s 178ms/step - loss: 18.3522 - val_loss: 4.7392\n",
      "Epoch 4/100\n",
      "40/40 [==============================] - 7s 181ms/step - loss: 14.2383 - val_loss: 2.5455\n",
      "Epoch 5/100\n",
      "40/40 [==============================] - 8s 206ms/step - loss: 4.1020 - val_loss: 1.2604\n",
      "Epoch 6/100\n",
      "40/40 [==============================] - 9s 224ms/step - loss: 2.5224 - val_loss: 1.0576\n",
      "Epoch 7/100\n",
      "40/40 [==============================] - 8s 206ms/step - loss: 1.6215 - val_loss: 0.3945\n",
      "Epoch 8/100\n",
      "40/40 [==============================] - 7s 185ms/step - loss: 1.3004 - val_loss: 0.2736\n",
      "Epoch 9/100\n",
      "40/40 [==============================] - 8s 202ms/step - loss: 1.0851 - val_loss: 0.2001\n",
      "Epoch 10/100\n",
      "40/40 [==============================] - 7s 181ms/step - loss: 0.8368 - val_loss: 0.3382\n",
      "Epoch 11/100\n",
      "40/40 [==============================] - 8s 193ms/step - loss: 0.8383 - val_loss: 0.2871\n",
      "Epoch 12/100\n",
      "40/40 [==============================] - 8s 190ms/step - loss: 1.0974 - val_loss: 0.3889\n",
      "Epoch 13/100\n",
      "40/40 [==============================] - 7s 176ms/step - loss: 1.0917 - val_loss: 0.3950\n",
      "Epoch 14/100\n",
      "40/40 [==============================] - 7s 174ms/step - loss: 1.4326 - val_loss: 0.5268\n",
      "Epoch 15/100\n",
      "40/40 [==============================] - 8s 196ms/step - loss: 1.7676 - val_loss: 1.3609\n",
      "Epoch 16/100\n",
      "40/40 [==============================] - 8s 198ms/step - loss: 81641.0312 - val_loss: 1.9200\n",
      "Epoch 17/100\n",
      "40/40 [==============================] - 7s 179ms/step - loss: 11.7822 - val_loss: 0.5379\n",
      "Epoch 18/100\n",
      "40/40 [==============================] - 7s 171ms/step - loss: 1.3831 - val_loss: 0.6152\n",
      "Epoch 19/100\n",
      "40/40 [==============================] - 7s 175ms/step - loss: 1.0103 - val_loss: 0.2943\n"
     ]
    }
   ],
   "source": [
    "es = EarlyStopping(patience=10,restore_best_weights=True)\n",
    "\n",
    "history = variational_ae.fit(X_train, X_train, epochs=100, batch_size=128, validation_data=[X_valid, X_valid], callbacks=[es])"
   ]
  },
  {
   "cell_type": "code",
   "execution_count": 61,
   "id": "f4265138",
   "metadata": {},
   "outputs": [],
   "source": [
    "# SAMPLE THE LATENT SPACE\n",
    "codings = tf.random.normal(shape=[10, codings_size],stddev=s_devs)\n",
    "images = variational_decoder(codings).numpy()"
   ]
  },
  {
   "cell_type": "code",
   "execution_count": 20,
   "id": "58a2426d",
   "metadata": {},
   "outputs": [
    {
     "name": "stdout",
     "output_type": "stream",
     "text": [
      "Model: \"model_2\"\n",
      "__________________________________________________________________________________________________\n",
      " Layer (type)                   Output Shape         Param #     Connected to                     \n",
      "==================================================================================================\n",
      " input_1 (InputLayer)           [(None, 256, 94)]    0           []                               \n",
      "                                                                                                  \n",
      " model (Functional)             [(None, 10),         3626870     ['input_1[0][0]']                \n",
      "                                 (None, 10),                                                      \n",
      "                                 (None, 10)]                                                      \n",
      "                                                                                                  \n",
      " model_1 (Functional)           (None, 256, 94)      3649914     ['model[0][2]']                  \n",
      "                                                                                                  \n",
      " flatten (Flatten)              (None, 24064)        0           ['input_1[0][0]']                \n",
      "                                                                                                  \n",
      " dense (Dense)                  (None, 150)          3609750     ['flatten[0][0]']                \n",
      "                                                                                                  \n",
      " dense_1 (Dense)                (None, 100)          15100       ['dense[0][0]']                  \n",
      "                                                                                                  \n",
      " dense_3 (Dense)                (None, 10)           1010        ['dense_1[0][0]']                \n",
      "                                                                                                  \n",
      " tf.__operators__.add (TFOpLamb  (None, 10)          0           ['dense_3[0][0]']                \n",
      " da)                                                                                              \n",
      "                                                                                                  \n",
      " tf.math.exp (TFOpLambda)       (None, 10)           0           ['dense_3[0][0]']                \n",
      "                                                                                                  \n",
      " dense_2 (Dense)                (None, 10)           1010        ['dense_1[0][0]']                \n",
      "                                                                                                  \n",
      " tf.math.subtract (TFOpLambda)  (None, 10)           0           ['tf.__operators__.add[0][0]',   \n",
      "                                                                  'tf.math.exp[0][0]']            \n",
      "                                                                                                  \n",
      " tf.math.square (TFOpLambda)    (None, 10)           0           ['dense_2[0][0]']                \n",
      "                                                                                                  \n",
      " tf.math.subtract_1 (TFOpLambda  (None, 10)          0           ['tf.math.subtract[0][0]',       \n",
      " )                                                                'tf.math.square[0][0]']         \n",
      "                                                                                                  \n",
      " tf.math.reduce_sum (TFOpLambda  (None,)             0           ['tf.math.subtract_1[0][0]']     \n",
      " )                                                                                                \n",
      "                                                                                                  \n",
      " tf.math.multiply (TFOpLambda)  (None,)              0           ['tf.math.reduce_sum[0][0]']     \n",
      "                                                                                                  \n",
      " tf.math.reduce_mean (TFOpLambd  ()                  0           ['tf.math.multiply[0][0]']       \n",
      " a)                                                                                               \n",
      "                                                                                                  \n",
      " tf.math.truediv (TFOpLambda)   ()                   0           ['tf.math.reduce_mean[0][0]']    \n",
      "                                                                                                  \n",
      " tf.math.multiply_1 (TFOpLambda  ()                  0           ['tf.math.truediv[0][0]']        \n",
      " )                                                                                                \n",
      "                                                                                                  \n",
      " add_loss (AddLoss)             ()                   0           ['tf.math.multiply_1[0][0]']     \n",
      "                                                                                                  \n",
      "==================================================================================================\n",
      "Total params: 7,276,784\n",
      "Trainable params: 7,276,784\n",
      "Non-trainable params: 0\n",
      "__________________________________________________________________________________________________\n"
     ]
    }
   ],
   "source": [
    "variational_ae.summary()"
   ]
  },
  {
   "cell_type": "code",
   "execution_count": 73,
   "id": "eda4b8f1",
   "metadata": {},
   "outputs": [
    {
     "data": {
      "text/html": [
       "\n",
       "                <audio  controls=\"controls\" >\n",
       "                    <source src=\"data:audio/wav;base64,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\" type=\"audio/wav\" />\n",
       "                    Your browser does not support the audio element.\n",
       "                </audio>\n",
       "              "
      ],
      "text/plain": [
       "<IPython.lib.display.Audio object>"
      ]
     },
     "execution_count": 73,
     "metadata": {},
     "output_type": "execute_result"
    },
    {
     "data": {
      "image/png": "[encoded data removed]",
      "text/plain": [
       "<Figure size 640x480 with 1 Axes>"
      ]
     },
     "metadata": {},
     "output_type": "display_data"
    }
   ],
   "source": [
    "postproc_and_play(images[2])"
   ]
  },
  {
   "cell_type": "code",
   "execution_count": null,
   "id": "a2b02020",
   "metadata": {},
   "outputs": [],
   "source": [
    "postproc_and_play(images[2])"
   ]
  },
  {
   "cell_type": "code",
   "execution_count": null,
   "id": "c24a3002",
   "metadata": {},
   "outputs": [],
   "source": [
    "postproc_and_play(images[3])"
   ]
  },
  {
   "cell_type": "code",
   "execution_count": null,
   "id": "3a99368d",
   "metadata": {},
   "outputs": [],
   "source": [
    "postproc_and_play(images[4])"
   ]
  },
  {
   "cell_type": "code",
   "execution_count": null,
   "id": "fbd37ed7",
   "metadata": {},
   "outputs": [],
   "source": [
    "postproc_and_play(images[5])"
   ]
  }
 ],
 "metadata": {
  "kernelspec": {
   "display_name": "Python 3 (ipykernel)",
   "language": "python",
   "name": "python3"
  },
  "language_info": {
   "codemirror_mode": {
    "name": "ipython",
    "version": 3
   },
   "file_extension": ".py",
   "mimetype": "text/x-python",
   "name": "python",
   "nbconvert_exporter": "python",
   "pygments_lexer": "ipython3",
   "version": "3.10.6"
  },
  "toc": {
   "base_numbering": 1,
   "nav_menu": {},
   "number_sections": true,
   "sideBar": true,
   "skip_h1_title": false,
   "title_cell": "Table of Contents",
   "title_sidebar": "Contents",
   "toc_cell": false,
   "toc_position": {},
   "toc_section_display": true,
   "toc_window_display": false
  }
 },
 "nbformat": 4,
 "nbformat_minor": 5
}
