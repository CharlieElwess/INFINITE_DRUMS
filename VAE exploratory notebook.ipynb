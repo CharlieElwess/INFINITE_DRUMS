{
 "cells": [
  {
   "cell_type": "code",
   "execution_count": 6,
   "id": "efff2611",
   "metadata": {},
   "outputs": [],
   "source": [
    "import numpy as np\n",
    "from glob import glob"
   ]
  },
  {
   "cell_type": "code",
   "execution_count": 7,
   "id": "3d8b9164",
   "metadata": {},
   "outputs": [],
   "source": [
    "import librosa.display\n",
    "import IPython"
   ]
  },
  {
   "cell_type": "code",
   "execution_count": 8,
   "id": "78eb0493",
   "metadata": {},
   "outputs": [
    {
     "name": "stderr",
     "output_type": "stream",
     "text": [
      "2022-11-30 15:30:29.169139: I tensorflow/core/platform/cpu_feature_guard.cc:193] This TensorFlow binary is optimized with oneAPI Deep Neural Network Library (oneDNN) to use the following CPU instructions in performance-critical operations:  AVX2 FMA\n",
      "To enable them in other operations, rebuild TensorFlow with the appropriate compiler flags.\n"
     ]
    }
   ],
   "source": [
    "from tensorflow.keras import layers\n",
    "from tensorflow.keras import Model\n",
    "from tensorflow.keras import backend as k\n",
    "import tensorflow as tf\n",
    "from tensorflow.keras import losses"
   ]
  },
  {
   "cell_type": "code",
   "execution_count": 97,
   "id": "b485f25f",
   "metadata": {},
   "outputs": [],
   "source": [
    "data_dir = '/Users/felixm/Downloads/snare_specs'"
   ]
  },
  {
   "cell_type": "code",
   "execution_count": 98,
   "id": "6404b967",
   "metadata": {},
   "outputs": [],
   "source": [
    "audiofiles = glob(data_dir + '/*.npy')"
   ]
  },
  {
   "cell_type": "code",
   "execution_count": 99,
   "id": "31c20d51",
   "metadata": {},
   "outputs": [],
   "source": [
    "def load_data(path):\n",
    "    X = []\n",
    "    \n",
    "    audiofiles = glob(data_dir + '/*.wav.npy')\n",
    "    \n",
    "    for file in audiofiles:\n",
    "        \n",
    "        X.append(np.load(file))\n",
    "        \n",
    "        \n",
    "    return np.array(X)"
   ]
  },
  {
   "cell_type": "code",
   "execution_count": 100,
   "id": "92a42bfa",
   "metadata": {},
   "outputs": [],
   "source": [
    "data = load_data(data_dir)"
   ]
  },
  {
   "cell_type": "code",
   "execution_count": 103,
   "id": "7ff912b0",
   "metadata": {},
   "outputs": [],
   "source": [
    "def remove_nans(data):\n",
    "    if np.isnan(data).sum() > 0:\n",
    "        a = data.shape[1]\n",
    "        b = data.shape[2]\n",
    "        good_data_total = int(data.shape[0] - (np.isnan(data).sum() / (a * b)))\n",
    "        data = data[~np.isnan(data)]\n",
    "        data = data.reshape(good_data_total, a,b)\n",
    "        return data\n",
    "    return data\n",
    "\n"
   ]
  },
  {
   "cell_type": "code",
   "execution_count": 104,
   "id": "5955ae79",
   "metadata": {},
   "outputs": [],
   "source": [
    "data = remove_nans(data)"
   ]
  },
  {
   "cell_type": "code",
   "execution_count": 105,
   "id": "564be0db",
   "metadata": {},
   "outputs": [
    {
     "data": {
      "text/plain": [
       "(6056, 256, 188)"
      ]
     },
     "execution_count": 105,
     "metadata": {},
     "output_type": "execute_result"
    }
   ],
   "source": [
    "data.shape"
   ]
  },
  {
   "cell_type": "code",
   "execution_count": 71,
   "id": "c8540276",
   "metadata": {
    "scrolled": true
   },
   "outputs": [
    {
     "data": {
      "text/plain": [
       "3.0"
      ]
     },
     "execution_count": 71,
     "metadata": {},
     "output_type": "execute_result"
    }
   ],
   "source": [
    "np.isnan(data).sum() / 48128"
   ]
  },
  {
   "cell_type": "code",
   "execution_count": 73,
   "id": "2ea6d74c",
   "metadata": {},
   "outputs": [],
   "source": [
    "data = data[~np.isnan(data)]\n"
   ]
  },
  {
   "cell_type": "code",
   "execution_count": 76,
   "id": "2dc12c53",
   "metadata": {},
   "outputs": [],
   "source": [
    "data = data.reshape(6056,256,188)"
   ]
  },
  {
   "cell_type": "code",
   "execution_count": 77,
   "id": "afeecbe3",
   "metadata": {},
   "outputs": [
    {
     "data": {
      "text/plain": [
       "(6056, 256, 188)"
      ]
     },
     "execution_count": 77,
     "metadata": {},
     "output_type": "execute_result"
    }
   ],
   "source": [
    "data.shape"
   ]
  },
  {
   "cell_type": "code",
   "execution_count": 68,
   "id": "17f859e9",
   "metadata": {},
   "outputs": [
    {
     "data": {
      "text/plain": [
       "291607552"
      ]
     },
     "execution_count": 68,
     "metadata": {},
     "output_type": "execute_result"
    }
   ],
   "source": [
    "data.shape[0] * data.shape[1] * data.shape[2]"
   ]
  },
  {
   "cell_type": "code",
   "execution_count": 69,
   "id": "54b17e72",
   "metadata": {},
   "outputs": [
    {
     "data": {
      "text/plain": [
       "(6059, 256, 188)"
      ]
     },
     "execution_count": 69,
     "metadata": {},
     "output_type": "execute_result"
    }
   ],
   "source": [
    "data.shape"
   ]
  },
  {
   "cell_type": "code",
   "execution_count": 70,
   "id": "0c2426f2",
   "metadata": {},
   "outputs": [
    {
     "data": {
      "text/plain": [
       "48128"
      ]
     },
     "execution_count": 70,
     "metadata": {},
     "output_type": "execute_result"
    }
   ],
   "source": [
    "256 * 188"
   ]
  },
  {
   "cell_type": "code",
   "execution_count": 151,
   "id": "1cc46026",
   "metadata": {
    "scrolled": true
   },
   "outputs": [],
   "source": [
    "X_train = data[:5000, :, :]"
   ]
  },
  {
   "cell_type": "code",
   "execution_count": 152,
   "id": "b3bb2319",
   "metadata": {},
   "outputs": [],
   "source": [
    "X_valid = data[5000:6000, :, :]"
   ]
  },
  {
   "cell_type": "markdown",
   "id": "531fdee0",
   "metadata": {},
   "source": [
    "imports"
   ]
  },
  {
   "cell_type": "markdown",
   "id": "229ca5c0",
   "metadata": {},
   "source": [
    "Sampling layer which is called later in the function, takes in mean and log_var and randomly samples the coding from normal distribution."
   ]
  },
  {
   "cell_type": "code",
   "execution_count": 153,
   "id": "032aee95",
   "metadata": {},
   "outputs": [],
   "source": [
    "class Sampling(layers.Layer):\n",
    "    def call(self, inputs):\n",
    "        mean, log_var = inputs\n",
    "        return k.random_normal(tf.shape(log_var)) * k.exp(log_var/2) + mean"
   ]
  },
  {
   "cell_type": "code",
   "execution_count": 154,
   "id": "e21c790e",
   "metadata": {},
   "outputs": [],
   "source": [
    "codings_size = 10"
   ]
  },
  {
   "cell_type": "markdown",
   "id": "dc7bf391",
   "metadata": {},
   "source": [
    "encoder, mean and log_var take in same input from second layer hense not being sequential"
   ]
  },
  {
   "cell_type": "code",
   "execution_count": 155,
   "id": "f224b657",
   "metadata": {},
   "outputs": [],
   "source": [
    "inputs = layers.Input(shape=[256,188])\n",
    "z = layers.Flatten()(inputs)\n",
    "z = layers.Dense(150, activation='selu')(z)\n",
    "z = layers.Dense(100, activation='selu')(z)\n",
    "codings_mean = layers.Dense(codings_size)(z)\n",
    "codings_log_var = layers.Dense(codings_size)(z)\n",
    "codings = Sampling()([codings_mean,codings_log_var])\n",
    "variational_encoder = Model(\n",
    "inputs=[inputs], outputs=[codings_mean, codings_log_var, codings])"
   ]
  },
  {
   "cell_type": "markdown",
   "id": "b8705fdb",
   "metadata": {},
   "source": [
    "decoder"
   ]
  },
  {
   "cell_type": "code",
   "execution_count": 156,
   "id": "12600d6c",
   "metadata": {},
   "outputs": [],
   "source": [
    "decoder_inputs = layers.Input(shape=[codings_size])\n",
    "x = layers.Dense(100, activation='selu')(decoder_inputs)\n",
    "x = layers.Dense(150, activation='selu')(x)\n",
    "x = layers.Dense(256 * 188, activation='sigmoid')(x)\n",
    "outputs = layers.Reshape([256, 188])(x)\n",
    "variational_decoder = Model(inputs=[decoder_inputs], outputs=[outputs])"
   ]
  },
  {
   "cell_type": "code",
   "execution_count": 157,
   "id": "13f4ffe7",
   "metadata": {},
   "outputs": [],
   "source": [
    "_,_,codings = variational_encoder(inputs)\n",
    "reconstructions = variational_decoder(codings)\n",
    "variational_ae = Model(inputs=[inputs], outputs=[reconstructions])"
   ]
  },
  {
   "cell_type": "markdown",
   "id": "4371c506",
   "metadata": {},
   "source": [
    "custom KL Loss"
   ]
  },
  {
   "cell_type": "code",
   "execution_count": 158,
   "id": "90cf390e",
   "metadata": {},
   "outputs": [],
   "source": [
    "loss=losses.kullback_leibler_divergence"
   ]
  },
  {
   "cell_type": "code",
   "execution_count": 159,
   "id": "818c8357",
   "metadata": {},
   "outputs": [],
   "source": [
    "latent_loss = -0.5 * k.sum(\n",
    "1 + codings_log_var - k.exp(codings_log_var) - k.square(codings_mean),\n",
    "axis=-1)\n",
    "variational_ae.add_loss(k.mean(latent_loss)/256*188)\n",
    "variational_ae.compile(loss='binary_crossentropy', optimizer='rmsprop')"
   ]
  },
  {
   "cell_type": "code",
   "execution_count": 160,
   "id": "c80ab97b",
   "metadata": {},
   "outputs": [],
   "source": [
    "from tensorflow.keras.callbacks import EarlyStopping\n"
   ]
  },
  {
   "cell_type": "code",
   "execution_count": 161,
   "id": "2fa424ee",
   "metadata": {},
   "outputs": [
    {
     "name": "stdout",
     "output_type": "stream",
     "text": [
      "Epoch 1/100\n",
      "40/40 [==============================] - 13s 270ms/step - loss: 1158025284276827283270614346891264.0000 - val_loss: 1066791296.0000\n",
      "Epoch 2/100\n",
      "40/40 [==============================] - 9s 233ms/step - loss: 1040029568.0000 - val_loss: 2191904.0000\n",
      "Epoch 3/100\n",
      "40/40 [==============================] - 9s 228ms/step - loss: 221462.0156 - val_loss: 181456.4688\n",
      "Epoch 4/100\n",
      "40/40 [==============================] - 9s 226ms/step - loss: 19859.3945 - val_loss: 14496.8340\n",
      "Epoch 5/100\n",
      "40/40 [==============================] - 9s 228ms/step - loss: 3052.8503 - val_loss: 1096.0306\n",
      "Epoch 6/100\n",
      "40/40 [==============================] - 9s 229ms/step - loss: 404.9983 - val_loss: 26.6940\n",
      "Epoch 7/100\n",
      "40/40 [==============================] - 9s 228ms/step - loss: 15.9341 - val_loss: 9.1518\n",
      "Epoch 8/100\n",
      "40/40 [==============================] - 9s 230ms/step - loss: 8.4437 - val_loss: 7.2333\n",
      "Epoch 9/100\n",
      "40/40 [==============================] - 9s 228ms/step - loss: 7.3998 - val_loss: 7.9999\n",
      "Epoch 10/100\n",
      "40/40 [==============================] - 9s 230ms/step - loss: 7.1824 - val_loss: 25.5694\n",
      "Epoch 11/100\n",
      "40/40 [==============================] - 9s 227ms/step - loss: 7.4241 - val_loss: 6.4108\n",
      "Epoch 12/100\n",
      "40/40 [==============================] - 9s 228ms/step - loss: 6.8696 - val_loss: 6.5298\n",
      "Epoch 13/100\n",
      "40/40 [==============================] - 9s 229ms/step - loss: 6.3645 - val_loss: 15.6521\n",
      "Epoch 14/100\n",
      "40/40 [==============================] - 9s 237ms/step - loss: 5.8715 - val_loss: 4.5017\n",
      "Epoch 15/100\n",
      "40/40 [==============================] - 9s 227ms/step - loss: 4.9812 - val_loss: 3.6351\n",
      "Epoch 16/100\n",
      "40/40 [==============================] - 9s 226ms/step - loss: 4.4746 - val_loss: 3.1438\n",
      "Epoch 17/100\n",
      "40/40 [==============================] - 9s 221ms/step - loss: 4.0710 - val_loss: 3.4146\n",
      "Epoch 18/100\n",
      "40/40 [==============================] - 9s 224ms/step - loss: 4.1632 - val_loss: 2.3130\n",
      "Epoch 19/100\n",
      "40/40 [==============================] - 9s 229ms/step - loss: 4.6842 - val_loss: 7.6283\n",
      "Epoch 20/100\n",
      "40/40 [==============================] - 9s 236ms/step - loss: 10.6128 - val_loss: 5.5498\n",
      "Epoch 21/100\n",
      "40/40 [==============================] - 10s 238ms/step - loss: 6.0060 - val_loss: 12.8951\n",
      "Epoch 22/100\n",
      "40/40 [==============================] - 9s 224ms/step - loss: 528241696.0000 - val_loss: 18.8330\n",
      "Epoch 23/100\n",
      "40/40 [==============================] - 9s 223ms/step - loss: 17.7477 - val_loss: 13.6774\n",
      "Epoch 24/100\n",
      "40/40 [==============================] - 9s 227ms/step - loss: 11.3115 - val_loss: 6.5973\n",
      "Epoch 25/100\n",
      "40/40 [==============================] - 9s 224ms/step - loss: 7.9958 - val_loss: 4.9747\n",
      "Epoch 26/100\n",
      "40/40 [==============================] - 9s 223ms/step - loss: 7.7186 - val_loss: 4.6093\n",
      "Epoch 27/100\n",
      "40/40 [==============================] - 9s 224ms/step - loss: 5.7479 - val_loss: 12.2159\n",
      "Epoch 28/100\n",
      "40/40 [==============================] - 9s 225ms/step - loss: 4.8924 - val_loss: 8.7032\n"
     ]
    }
   ],
   "source": [
    "es = EarlyStopping(patience=10,restore_best_weights=True)\n",
    "\n",
    "history = variational_ae.fit(X_train, X_train, epochs=100, batch_size=128, validation_data=[X_valid, X_valid], callbacks=[es])"
   ]
  },
  {
   "cell_type": "code",
   "execution_count": 174,
   "id": "4eba82ed",
   "metadata": {},
   "outputs": [],
   "source": [
    "codings = tf.random.normal(shape=[10, codings_size],stddev=4.0)\n",
    "images = variational_decoder(codings).numpy()"
   ]
  },
  {
   "cell_type": "code",
   "execution_count": null,
   "id": "68d1752b",
   "metadata": {},
   "outputs": [],
   "source": []
  },
  {
   "cell_type": "code",
   "execution_count": 175,
   "id": "b76498de",
   "metadata": {},
   "outputs": [
    {
     "data": {
      "text/plain": [
       "array([[[6.09451354e-01, 6.57386899e-01, 6.32312357e-01, ...,\n",
       "         1.93774179e-02, 1.76618882e-02, 2.14826874e-02],\n",
       "        [6.97596908e-01, 7.58266926e-01, 7.96365857e-01, ...,\n",
       "         2.76841596e-02, 2.47396771e-02, 2.47905608e-02],\n",
       "        [7.39945531e-01, 8.43648136e-01, 8.67413342e-01, ...,\n",
       "         2.20782533e-02, 2.41801012e-02, 2.65785847e-02],\n",
       "        ...,\n",
       "        [4.05116007e-02, 7.03734951e-03, 7.19303172e-03, ...,\n",
       "         6.74054679e-03, 7.27713481e-03, 8.05951003e-03],\n",
       "        [4.59136665e-02, 5.92845539e-03, 7.03509059e-03, ...,\n",
       "         6.26809103e-03, 6.71971356e-03, 8.17373767e-03],\n",
       "        [4.26951312e-02, 7.89611414e-03, 6.85593579e-03, ...,\n",
       "         6.74779853e-03, 6.21589413e-03, 7.87863694e-03]],\n",
       "\n",
       "       [[7.26027787e-01, 8.29576075e-01, 8.06620836e-01, ...,\n",
       "         1.11673216e-04, 1.76600937e-04, 1.49777698e-04],\n",
       "        [8.76556039e-01, 9.58467066e-01, 9.57327664e-01, ...,\n",
       "         1.89431288e-04, 3.14734294e-04, 3.93427588e-04],\n",
       "        [9.00664568e-01, 9.84906554e-01, 9.88715887e-01, ...,\n",
       "         3.54938675e-04, 3.13982629e-04, 4.34417365e-04],\n",
       "        ...,\n",
       "        [1.05756649e-03, 1.23483333e-05, 1.45049999e-05, ...,\n",
       "         1.35392556e-05, 1.03229604e-05, 1.69573741e-05],\n",
       "        [7.51249783e-04, 1.80174411e-05, 1.47871888e-05, ...,\n",
       "         1.33004514e-05, 1.09778239e-05, 1.82270905e-05],\n",
       "        [7.58873939e-04, 1.03763186e-05, 1.40670354e-05, ...,\n",
       "         8.65522998e-06, 1.46149841e-05, 1.81151299e-05]],\n",
       "\n",
       "       [[6.39398634e-01, 6.58782482e-01, 6.44434094e-01, ...,\n",
       "         1.21395225e-02, 1.21786064e-02, 1.16541469e-02],\n",
       "        [7.19513178e-01, 8.12358856e-01, 8.32800865e-01, ...,\n",
       "         1.39044644e-02, 1.59891117e-02, 1.80656891e-02],\n",
       "        [7.48013496e-01, 8.76782775e-01, 8.86352241e-01, ...,\n",
       "         1.40512949e-02, 1.62885971e-02, 1.87012535e-02],\n",
       "        ...,\n",
       "        [2.88073532e-02, 3.35440342e-03, 4.40470641e-03, ...,\n",
       "         3.43770045e-03, 4.28032828e-03, 5.37399808e-03],\n",
       "        [2.95062680e-02, 3.87711078e-03, 4.03343374e-03, ...,\n",
       "         3.30867665e-03, 3.55261192e-03, 4.59502358e-03],\n",
       "        [3.17731574e-02, 4.42426791e-03, 3.45352991e-03, ...,\n",
       "         3.47406161e-03, 3.18942266e-03, 4.45729354e-03]],\n",
       "\n",
       "       ...,\n",
       "\n",
       "       [[5.76461315e-01, 6.99865699e-01, 6.21705532e-01, ...,\n",
       "         3.37240882e-02, 3.88814174e-02, 3.08769234e-02],\n",
       "        [7.09586024e-01, 7.88809776e-01, 7.76171148e-01, ...,\n",
       "         4.23482955e-02, 4.34232317e-02, 4.68659885e-02],\n",
       "        [6.96218550e-01, 8.56632590e-01, 8.34261298e-01, ...,\n",
       "         3.82781439e-02, 4.64658588e-02, 4.20066863e-02],\n",
       "        ...,\n",
       "        [7.03366399e-02, 1.66384131e-02, 1.18431505e-02, ...,\n",
       "         1.33534642e-02, 1.28015783e-02, 1.29581150e-02],\n",
       "        [6.15942627e-02, 1.31360050e-02, 1.39087411e-02, ...,\n",
       "         1.13998968e-02, 1.16323316e-02, 1.67023540e-02],\n",
       "        [7.05636442e-02, 1.24883763e-02, 1.29759740e-02, ...,\n",
       "         1.14144208e-02, 1.21377045e-02, 1.59279257e-02]],\n",
       "\n",
       "       [[6.21058941e-01, 6.56548858e-01, 6.11161053e-01, ...,\n",
       "         2.54814122e-02, 2.54887380e-02, 2.86220759e-02],\n",
       "        [6.69434309e-01, 7.46911526e-01, 7.78596938e-01, ...,\n",
       "         4.12948988e-02, 3.37878875e-02, 3.66420709e-02],\n",
       "        [7.05630481e-01, 8.48270059e-01, 8.46214116e-01, ...,\n",
       "         2.88594924e-02, 3.24169062e-02, 3.19136158e-02],\n",
       "        ...,\n",
       "        [5.73094822e-02, 1.17051490e-02, 1.13338428e-02, ...,\n",
       "         1.34608215e-02, 1.09512229e-02, 1.57042108e-02],\n",
       "        [6.37984648e-02, 9.69616137e-03, 1.20550571e-02, ...,\n",
       "         1.10166715e-02, 1.08809164e-02, 1.25573315e-02],\n",
       "        [5.89824840e-02, 1.29135856e-02, 1.29253631e-02, ...,\n",
       "         1.03718424e-02, 1.04845483e-02, 1.21751484e-02]],\n",
       "\n",
       "       [[7.26286471e-01, 8.30693066e-01, 8.00135911e-01, ...,\n",
       "         1.70212254e-04, 2.28325909e-04, 1.77352878e-04],\n",
       "        [8.89395416e-01, 9.57532823e-01, 9.55920815e-01, ...,\n",
       "         3.37016740e-04, 3.42303247e-04, 4.86475852e-04],\n",
       "        [8.97152007e-01, 9.88176942e-01, 9.87817943e-01, ...,\n",
       "         5.00184949e-04, 4.59362200e-04, 5.84070978e-04],\n",
       "        ...,\n",
       "        [1.38348422e-03, 2.50003013e-05, 2.25836193e-05, ...,\n",
       "         2.76888950e-05, 1.99113529e-05, 2.93992180e-05],\n",
       "        [1.19663263e-03, 2.86711365e-05, 3.07411901e-05, ...,\n",
       "         2.16074332e-05, 2.28736517e-05, 3.42204512e-05],\n",
       "        [1.22242374e-03, 2.22446761e-05, 2.41968046e-05, ...,\n",
       "         1.66033133e-05, 1.89204020e-05, 2.82685360e-05]]], dtype=float32)"
      ]
     },
     "execution_count": 175,
     "metadata": {},
     "output_type": "execute_result"
    }
   ],
   "source": [
    "images"
   ]
  },
  {
   "cell_type": "code",
   "execution_count": 21,
   "id": "d95eb660",
   "metadata": {
    "scrolled": false
   },
   "outputs": [
    {
     "name": "stdout",
     "output_type": "stream",
     "text": [
      "Model: \"model_2\"\n",
      "__________________________________________________________________________________________________\n",
      " Layer (type)                   Output Shape         Param #     Connected to                     \n",
      "==================================================================================================\n",
      " input_1 (InputLayer)           [(None, 256, 188)]   0           []                               \n",
      "                                                                                                  \n",
      " model (Functional)             [(None, 100),        7254650     ['input_1[0][0]']                \n",
      "                                 (None, 100),                                                     \n",
      "                                 (None, 100)]                                                     \n",
      "                                                                                                  \n",
      " model_1 (Functional)           (None, 256, 188)     7292578     ['model[0][2]']                  \n",
      "                                                                                                  \n",
      " flatten (Flatten)              (None, 48128)        0           ['input_1[0][0]']                \n",
      "                                                                                                  \n",
      " dense (Dense)                  (None, 150)          7219350     ['flatten[0][0]']                \n",
      "                                                                                                  \n",
      " dense_1 (Dense)                (None, 100)          15100       ['dense[0][0]']                  \n",
      "                                                                                                  \n",
      " dense_3 (Dense)                (None, 100)          10100       ['dense_1[0][0]']                \n",
      "                                                                                                  \n",
      " tf.__operators__.add (TFOpLamb  (None, 100)         0           ['dense_3[0][0]']                \n",
      " da)                                                                                              \n",
      "                                                                                                  \n",
      " tf.math.exp (TFOpLambda)       (None, 100)          0           ['dense_3[0][0]']                \n",
      "                                                                                                  \n",
      " dense_2 (Dense)                (None, 100)          10100       ['dense_1[0][0]']                \n",
      "                                                                                                  \n",
      " tf.math.subtract (TFOpLambda)  (None, 100)          0           ['tf.__operators__.add[0][0]',   \n",
      "                                                                  'tf.math.exp[0][0]']            \n",
      "                                                                                                  \n",
      " tf.math.square (TFOpLambda)    (None, 100)          0           ['dense_2[0][0]']                \n",
      "                                                                                                  \n",
      " tf.math.subtract_1 (TFOpLambda  (None, 100)         0           ['tf.math.subtract[0][0]',       \n",
      " )                                                                'tf.math.square[0][0]']         \n",
      "                                                                                                  \n",
      " tf.math.reduce_sum (TFOpLambda  (None,)             0           ['tf.math.subtract_1[0][0]']     \n",
      " )                                                                                                \n",
      "                                                                                                  \n",
      " tf.math.multiply (TFOpLambda)  (None,)              0           ['tf.math.reduce_sum[0][0]']     \n",
      "                                                                                                  \n",
      " tf.math.reduce_mean (TFOpLambd  ()                  0           ['tf.math.multiply[0][0]']       \n",
      " a)                                                                                               \n",
      "                                                                                                  \n",
      " tf.math.truediv (TFOpLambda)   ()                   0           ['tf.math.reduce_mean[0][0]']    \n",
      "                                                                                                  \n",
      " tf.math.multiply_1 (TFOpLambda  ()                  0           ['tf.math.truediv[0][0]']        \n",
      " )                                                                                                \n",
      "                                                                                                  \n",
      " add_loss (AddLoss)             ()                   0           ['tf.math.multiply_1[0][0]']     \n",
      "                                                                                                  \n",
      "==================================================================================================\n",
      "Total params: 14,547,228\n",
      "Trainable params: 14,547,228\n",
      "Non-trainable params: 0\n",
      "__________________________________________________________________________________________________\n"
     ]
    }
   ],
   "source": [
    "variational_ae.summary()"
   ]
  },
  {
   "cell_type": "code",
   "execution_count": 176,
   "id": "3719cff7",
   "metadata": {},
   "outputs": [],
   "source": [
    "hop_length = 300\n",
    "win_length = 1200\n",
    "# spec = librosa.db_to_amplitude(images[1])"
   ]
  },
  {
   "cell_type": "code",
   "execution_count": 189,
   "id": "c510c27c",
   "metadata": {},
   "outputs": [],
   "source": [
    "# signal = librosa.istft(spec, n_fft=1200, hop_length=hop_length, win_length=win_length, dtype='float32')\n",
    "f = librosa.core.spectrum.griffinlim(images[7])\n"
   ]
  },
  {
   "cell_type": "code",
   "execution_count": 190,
   "id": "652f0595",
   "metadata": {
    "scrolled": true
   },
   "outputs": [
    {
     "data": {
      "text/html": [
       "\n",
       "                <audio  controls=\"controls\" >\n",
       "                    <source src=\"data:audio/wav;base64,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\" type=\"audio/wav\" />\n",
       "                    Your browser does not support the audio element.\n",
       "                </audio>\n",
       "              "
      ],
      "text/plain": [
       "<IPython.lib.display.Audio object>"
      ]
     },
     "execution_count": 190,
     "metadata": {},
     "output_type": "execute_result"
    }
   ],
   "source": [
    "IPython.display.Audio(f, rate=36000)"
   ]
  },
  {
   "cell_type": "code",
   "execution_count": 191,
   "id": "12ca8481",
   "metadata": {},
   "outputs": [
    {
     "data": {
      "text/plain": [
       "<librosa.display.AdaptiveWaveplot at 0x139f43a00>"
      ]
     },
     "execution_count": 191,
     "metadata": {},
     "output_type": "execute_result"
    },
    {
     "data": {
      "image/png": "[encoded data removed]",
      "text/plain": [
       "<Figure size 640x480 with 1 Axes>"
      ]
     },
     "metadata": {},
     "output_type": "display_data"
    }
   ],
   "source": [
    "librosa.display.waveshow(f,sr=24000)"
   ]
  },
  {
   "cell_type": "code",
   "execution_count": 192,
   "id": "a1e8b517",
   "metadata": {
    "scrolled": false
   },
   "outputs": [
    {
     "data": {
      "text/plain": [
       "<matplotlib.collections.QuadMesh at 0x139f71780>"
      ]
     },
     "execution_count": 192,
     "metadata": {},
     "output_type": "execute_result"
    },
    {
     "data": {
      "image/png": "[encoded data removed]",
      "text/plain": [
       "<Figure size 640x480 with 1 Axes>"
      ]
     },
     "metadata": {},
     "output_type": "display_data"
    }
   ],
   "source": [
    "librosa.display.specshow(images[1])"
   ]
  },
  {
   "cell_type": "code",
   "execution_count": 27,
   "id": "6e65d4d5",
   "metadata": {},
   "outputs": [],
   "source": [
    "# np.save(\"/Users/felixm/Downloads/\",images)"
   ]
  }
 ],
 "metadata": {
  "kernelspec": {
   "display_name": "Python 3 (ipykernel)",
   "language": "python",
   "name": "python3"
  },
  "language_info": {
   "codemirror_mode": {
    "name": "ipython",
    "version": 3
   },
   "file_extension": ".py",
   "mimetype": "text/x-python",
   "name": "python",
   "nbconvert_exporter": "python",
   "pygments_lexer": "ipython3",
   "version": "3.10.6"
  },
  "toc": {
   "base_numbering": 1,
   "nav_menu": {},
   "number_sections": true,
   "sideBar": true,
   "skip_h1_title": false,
   "title_cell": "Table of Contents",
   "title_sidebar": "Contents",
   "toc_cell": false,
   "toc_position": {},
   "toc_section_display": true,
   "toc_window_display": false
  },
  "vscode": {
   "interpreter": {
    "hash": "dfe2ca10e872574203673e5d239c2db1cc482c11f719045fc660e31bd90588a9"
   }
  }
 },
 "nbformat": 4,
 "nbformat_minor": 5
}
