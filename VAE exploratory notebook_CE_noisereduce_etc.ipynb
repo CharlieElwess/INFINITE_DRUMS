{
 "cells": [
  {
   "cell_type": "code",
   "execution_count": 1,
   "id": "318bd0d7",
   "metadata": {},
   "outputs": [
    {
     "name": "stdout",
     "output_type": "stream",
     "text": [
      "Requirement already satisfied: noisereduce in /Users/charlieelwess/.pyenv/versions/3.10.6/envs/infinite_drums/lib/python3.10/site-packages (2.0.1)\n",
      "Requirement already satisfied: tqdm in /Users/charlieelwess/.pyenv/versions/3.10.6/envs/infinite_drums/lib/python3.10/site-packages (from noisereduce) (4.64.1)\n",
      "Requirement already satisfied: numpy in /Users/charlieelwess/.pyenv/versions/3.10.6/envs/infinite_drums/lib/python3.10/site-packages (from noisereduce) (1.23.5)\n",
      "Requirement already satisfied: scipy in /Users/charlieelwess/.pyenv/versions/3.10.6/envs/infinite_drums/lib/python3.10/site-packages (from noisereduce) (1.9.3)\n",
      "Requirement already satisfied: librosa in /Users/charlieelwess/.pyenv/versions/3.10.6/envs/infinite_drums/lib/python3.10/site-packages (from noisereduce) (0.9.2)\n",
      "Requirement already satisfied: matplotlib in /Users/charlieelwess/.pyenv/versions/3.10.6/envs/infinite_drums/lib/python3.10/site-packages (from noisereduce) (3.6.2)\n",
      "Requirement already satisfied: scikit-learn>=0.19.1 in /Users/charlieelwess/.pyenv/versions/3.10.6/envs/infinite_drums/lib/python3.10/site-packages (from librosa->noisereduce) (1.1.3)\n",
      "Requirement already satisfied: audioread>=2.1.9 in /Users/charlieelwess/.pyenv/versions/3.10.6/envs/infinite_drums/lib/python3.10/site-packages (from librosa->noisereduce) (3.0.0)\n",
      "Requirement already satisfied: numba>=0.45.1 in /Users/charlieelwess/.pyenv/versions/3.10.6/envs/infinite_drums/lib/python3.10/site-packages (from librosa->noisereduce) (0.56.4)\n",
      "Requirement already satisfied: joblib>=0.14 in /Users/charlieelwess/.pyenv/versions/3.10.6/envs/infinite_drums/lib/python3.10/site-packages (from librosa->noisereduce) (1.2.0)\n",
      "Requirement already satisfied: decorator>=4.0.10 in /Users/charlieelwess/.pyenv/versions/3.10.6/envs/infinite_drums/lib/python3.10/site-packages (from librosa->noisereduce) (5.1.1)\n",
      "Requirement already satisfied: resampy>=0.2.2 in /Users/charlieelwess/.pyenv/versions/3.10.6/envs/infinite_drums/lib/python3.10/site-packages (from librosa->noisereduce) (0.4.2)\n",
      "Requirement already satisfied: pooch>=1.0 in /Users/charlieelwess/.pyenv/versions/3.10.6/envs/infinite_drums/lib/python3.10/site-packages (from librosa->noisereduce) (1.6.0)\n",
      "Requirement already satisfied: packaging>=20.0 in /Users/charlieelwess/.pyenv/versions/3.10.6/envs/infinite_drums/lib/python3.10/site-packages (from librosa->noisereduce) (21.3)\n",
      "Requirement already satisfied: soundfile>=0.10.2 in /Users/charlieelwess/.pyenv/versions/3.10.6/envs/infinite_drums/lib/python3.10/site-packages (from librosa->noisereduce) (0.11.0)\n",
      "Requirement already satisfied: kiwisolver>=1.0.1 in /Users/charlieelwess/.pyenv/versions/3.10.6/envs/infinite_drums/lib/python3.10/site-packages (from matplotlib->noisereduce) (1.4.4)\n",
      "Requirement already satisfied: python-dateutil>=2.7 in /Users/charlieelwess/.pyenv/versions/3.10.6/envs/infinite_drums/lib/python3.10/site-packages (from matplotlib->noisereduce) (2.8.2)\n",
      "Requirement already satisfied: fonttools>=4.22.0 in /Users/charlieelwess/.pyenv/versions/3.10.6/envs/infinite_drums/lib/python3.10/site-packages (from matplotlib->noisereduce) (4.38.0)\n",
      "Requirement already satisfied: pyparsing>=2.2.1 in /Users/charlieelwess/.pyenv/versions/3.10.6/envs/infinite_drums/lib/python3.10/site-packages (from matplotlib->noisereduce) (3.0.9)\n",
      "Requirement already satisfied: cycler>=0.10 in /Users/charlieelwess/.pyenv/versions/3.10.6/envs/infinite_drums/lib/python3.10/site-packages (from matplotlib->noisereduce) (0.11.0)\n",
      "Requirement already satisfied: pillow>=6.2.0 in /Users/charlieelwess/.pyenv/versions/3.10.6/envs/infinite_drums/lib/python3.10/site-packages (from matplotlib->noisereduce) (9.3.0)\n",
      "Requirement already satisfied: contourpy>=1.0.1 in /Users/charlieelwess/.pyenv/versions/3.10.6/envs/infinite_drums/lib/python3.10/site-packages (from matplotlib->noisereduce) (1.0.6)\n",
      "Requirement already satisfied: llvmlite<0.40,>=0.39.0dev0 in /Users/charlieelwess/.pyenv/versions/3.10.6/envs/infinite_drums/lib/python3.10/site-packages (from numba>=0.45.1->librosa->noisereduce) (0.39.1)\n",
      "Requirement already satisfied: setuptools in /Users/charlieelwess/.pyenv/versions/3.10.6/envs/infinite_drums/lib/python3.10/site-packages (from numba>=0.45.1->librosa->noisereduce) (63.2.0)\n",
      "Requirement already satisfied: requests>=2.19.0 in /Users/charlieelwess/.pyenv/versions/3.10.6/envs/infinite_drums/lib/python3.10/site-packages (from pooch>=1.0->librosa->noisereduce) (2.28.1)\n",
      "Requirement already satisfied: appdirs>=1.3.0 in /Users/charlieelwess/.pyenv/versions/3.10.6/envs/infinite_drums/lib/python3.10/site-packages (from pooch>=1.0->librosa->noisereduce) (1.4.4)\n",
      "Requirement already satisfied: six>=1.5 in /Users/charlieelwess/.pyenv/versions/3.10.6/envs/infinite_drums/lib/python3.10/site-packages (from python-dateutil>=2.7->matplotlib->noisereduce) (1.16.0)\n",
      "Requirement already satisfied: threadpoolctl>=2.0.0 in /Users/charlieelwess/.pyenv/versions/3.10.6/envs/infinite_drums/lib/python3.10/site-packages (from scikit-learn>=0.19.1->librosa->noisereduce) (3.1.0)\n",
      "Requirement already satisfied: cffi>=1.0 in /Users/charlieelwess/.pyenv/versions/3.10.6/envs/infinite_drums/lib/python3.10/site-packages (from soundfile>=0.10.2->librosa->noisereduce) (1.15.1)\n",
      "Requirement already satisfied: pycparser in /Users/charlieelwess/.pyenv/versions/3.10.6/envs/infinite_drums/lib/python3.10/site-packages (from cffi>=1.0->soundfile>=0.10.2->librosa->noisereduce) (2.21)\n",
      "Requirement already satisfied: idna<4,>=2.5 in /Users/charlieelwess/.pyenv/versions/3.10.6/envs/infinite_drums/lib/python3.10/site-packages (from requests>=2.19.0->pooch>=1.0->librosa->noisereduce) (3.4)\n",
      "Requirement already satisfied: urllib3<1.27,>=1.21.1 in /Users/charlieelwess/.pyenv/versions/3.10.6/envs/infinite_drums/lib/python3.10/site-packages (from requests>=2.19.0->pooch>=1.0->librosa->noisereduce) (1.26.13)\n",
      "Requirement already satisfied: certifi>=2017.4.17 in /Users/charlieelwess/.pyenv/versions/3.10.6/envs/infinite_drums/lib/python3.10/site-packages (from requests>=2.19.0->pooch>=1.0->librosa->noisereduce) (2022.9.24)\n",
      "Requirement already satisfied: charset-normalizer<3,>=2 in /Users/charlieelwess/.pyenv/versions/3.10.6/envs/infinite_drums/lib/python3.10/site-packages (from requests>=2.19.0->pooch>=1.0->librosa->noisereduce) (2.1.1)\n",
      "\n",
      "\u001b[1m[\u001b[0m\u001b[34;49mnotice\u001b[0m\u001b[1;39;49m]\u001b[0m\u001b[39;49m A new release of pip available: \u001b[0m\u001b[31;49m22.2.1\u001b[0m\u001b[39;49m -> \u001b[0m\u001b[32;49m22.3.1\u001b[0m\n",
      "\u001b[1m[\u001b[0m\u001b[34;49mnotice\u001b[0m\u001b[1;39;49m]\u001b[0m\u001b[39;49m To update, run: \u001b[0m\u001b[32;49mpython -m pip install --upgrade pip\u001b[0m\n"
     ]
    }
   ],
   "source": [
    "!pip install noisereduce"
   ]
  },
  {
   "cell_type": "code",
   "execution_count": 2,
   "id": "efff2611",
   "metadata": {},
   "outputs": [],
   "source": [
    "import numpy as np\n",
    "from glob import glob\n",
    "import noisereduce as nr\n",
    "import random"
   ]
  },
  {
   "cell_type": "code",
   "execution_count": 3,
   "id": "3d8b9164",
   "metadata": {},
   "outputs": [],
   "source": [
    "import librosa.display\n",
    "import IPython"
   ]
  },
  {
   "cell_type": "code",
   "execution_count": 4,
   "id": "78eb0493",
   "metadata": {},
   "outputs": [
    {
     "name": "stderr",
     "output_type": "stream",
     "text": [
      "2022-12-01 11:37:29.700301: I tensorflow/core/platform/cpu_feature_guard.cc:193] This TensorFlow binary is optimized with oneAPI Deep Neural Network Library (oneDNN) to use the following CPU instructions in performance-critical operations:  AVX2 FMA\n",
      "To enable them in other operations, rebuild TensorFlow with the appropriate compiler flags.\n"
     ]
    }
   ],
   "source": [
    "from tensorflow.keras import layers\n",
    "from tensorflow.keras import Model\n",
    "from tensorflow.keras import backend as k\n",
    "import tensorflow as tf\n",
    "from tensorflow.keras import losses"
   ]
  },
  {
   "cell_type": "code",
   "execution_count": 23,
   "id": "b485f25f",
   "metadata": {},
   "outputs": [],
   "source": [
    "data_dir = '/Volumes/CE_CADDY/TRAINING_SAMPLES/Kicks_Preprocessed_0.5s'"
   ]
  },
  {
   "cell_type": "code",
   "execution_count": 24,
   "id": "6404b967",
   "metadata": {},
   "outputs": [],
   "source": [
    "audiofiles = glob(data_dir + '/*.npy')"
   ]
  },
  {
   "cell_type": "code",
   "execution_count": 25,
   "id": "31c20d51",
   "metadata": {},
   "outputs": [],
   "source": [
    "def load_data(path):\n",
    "    X = []\n",
    "    \n",
    "    audiofiles = glob(data_dir + '/*.wav.npy')\n",
    "    \n",
    "    for file in audiofiles:\n",
    "        \n",
    "        X.append(np.load(file))\n",
    "        \n",
    "        \n",
    "    return np.array(X)"
   ]
  },
  {
   "cell_type": "code",
   "execution_count": 26,
   "id": "92a42bfa",
   "metadata": {},
   "outputs": [],
   "source": [
    "data = load_data(data_dir)"
   ]
  },
  {
   "cell_type": "code",
   "execution_count": 28,
   "id": "904f20f9",
   "metadata": {},
   "outputs": [
    {
     "data": {
      "text/plain": [
       "0"
      ]
     },
     "execution_count": 28,
     "metadata": {},
     "output_type": "execute_result"
    }
   ],
   "source": [
    "np.isnan(data).sum()"
   ]
  },
  {
   "cell_type": "code",
   "execution_count": 9,
   "id": "7ff912b0",
   "metadata": {},
   "outputs": [],
   "source": [
    "def remove_nans(data):\n",
    "    if np.isnan(data).sum() > 0:\n",
    "        a = data.shape[1]\n",
    "        b = data.shape[2]\n",
    "        good_data_total = int(data.shape[0] - (np.isnan(data).sum() / (a * b)))\n",
    "        data = data[~np.isnan(data)]\n",
    "        data = data.reshape(good_data_total, a,b)\n",
    "        return data\n",
    "    return data\n",
    "\n"
   ]
  },
  {
   "cell_type": "code",
   "execution_count": 10,
   "id": "5955ae79",
   "metadata": {},
   "outputs": [],
   "source": [
    "data = remove_nans(data)"
   ]
  },
  {
   "cell_type": "code",
   "execution_count": 11,
   "id": "564be0db",
   "metadata": {},
   "outputs": [
    {
     "data": {
      "text/plain": [
       "(6561, 256, 94)"
      ]
     },
     "execution_count": 11,
     "metadata": {},
     "output_type": "execute_result"
    }
   ],
   "source": [
    "data.shape"
   ]
  },
  {
   "cell_type": "code",
   "execution_count": 12,
   "id": "1cc46026",
   "metadata": {
    "scrolled": true
   },
   "outputs": [],
   "source": [
    "X_train = data[:5000, :, :]"
   ]
  },
  {
   "cell_type": "code",
   "execution_count": 13,
   "id": "b3bb2319",
   "metadata": {},
   "outputs": [],
   "source": [
    "X_valid = data[5000:6560, :, :]"
   ]
  },
  {
   "cell_type": "markdown",
   "id": "531fdee0",
   "metadata": {},
   "source": [
    "imports"
   ]
  },
  {
   "cell_type": "markdown",
   "id": "229ca5c0",
   "metadata": {},
   "source": [
    "Sampling layer which is called later in the function, takes in mean and log_var and randomly samples the coding from normal distribution."
   ]
  },
  {
   "cell_type": "code",
   "execution_count": 29,
   "id": "032aee95",
   "metadata": {},
   "outputs": [],
   "source": [
    "class Sampling(layers.Layer):\n",
    "    def call(self, inputs):\n",
    "        mean, log_var = inputs\n",
    "        return k.random_normal(tf.shape(log_var)) * k.exp(log_var/2) + mean"
   ]
  },
  {
   "cell_type": "code",
   "execution_count": 15,
   "id": "e21c790e",
   "metadata": {},
   "outputs": [],
   "source": [
    "codings_size = 10"
   ]
  },
  {
   "cell_type": "markdown",
   "id": "dc7bf391",
   "metadata": {},
   "source": [
    "encoder, mean and log_var take in same input from second layer hense not being sequential"
   ]
  },
  {
   "cell_type": "code",
   "execution_count": 30,
   "id": "f224b657",
   "metadata": {},
   "outputs": [],
   "source": [
    "inputs = layers.Input(shape=[256,94])\n",
    "z = layers.Flatten()(inputs)\n",
    "z = layers.Dense(150, activation='selu')(z)\n",
    "z = layers.Dense(100, activation='selu')(z)\n",
    "codings_mean = layers.Dense(codings_size)(z)\n",
    "codings_log_var = layers.Dense(codings_size)(z)\n",
    "codings = Sampling()([codings_mean,codings_log_var])\n",
    "variational_encoder = Model(\n",
    "inputs=[inputs], outputs=[codings_mean, codings_log_var, codings])"
   ]
  },
  {
   "cell_type": "markdown",
   "id": "b8705fdb",
   "metadata": {},
   "source": [
    "decoder"
   ]
  },
  {
   "cell_type": "code",
   "execution_count": 32,
   "id": "12600d6c",
   "metadata": {},
   "outputs": [],
   "source": [
    "decoder_inputs = layers.Input(shape=[codings_size])\n",
    "x = layers.Dense(100, activation='selu')(decoder_inputs)\n",
    "x = layers.Dense(150, activation='selu')(x)\n",
    "x = layers.Dense(256 * 94, activation='sigmoid')(x)\n",
    "outputs = layers.Reshape([256, 94])(x)\n",
    "variational_decoder = Model(inputs=[decoder_inputs], outputs=[outputs])"
   ]
  },
  {
   "cell_type": "code",
   "execution_count": 33,
   "id": "13f4ffe7",
   "metadata": {},
   "outputs": [],
   "source": [
    "_,_,codings = variational_encoder(inputs)\n",
    "reconstructions = variational_decoder(codings)\n",
    "variational_ae = Model(inputs=[inputs], outputs=[reconstructions])"
   ]
  },
  {
   "cell_type": "markdown",
   "id": "4371c506",
   "metadata": {},
   "source": [
    "custom KL Loss"
   ]
  },
  {
   "cell_type": "code",
   "execution_count": 34,
   "id": "90cf390e",
   "metadata": {},
   "outputs": [],
   "source": [
    "loss=losses.kullback_leibler_divergence"
   ]
  },
  {
   "cell_type": "code",
   "execution_count": 35,
   "id": "818c8357",
   "metadata": {},
   "outputs": [],
   "source": [
    "latent_loss = -0.5 * k.sum(\n",
    "1 + codings_log_var - k.exp(codings_log_var) - k.square(codings_mean),\n",
    "axis=-1)\n",
    "variational_ae.add_loss(k.mean(latent_loss)/256*94)\n",
    "variational_ae.compile(loss='binary_crossentropy', optimizer='rmsprop')"
   ]
  },
  {
   "cell_type": "code",
   "execution_count": 36,
   "id": "c80ab97b",
   "metadata": {},
   "outputs": [],
   "source": [
    "from tensorflow.keras.callbacks import EarlyStopping\n"
   ]
  },
  {
   "cell_type": "code",
   "execution_count": 37,
   "id": "2fa424ee",
   "metadata": {},
   "outputs": [
    {
     "name": "stdout",
     "output_type": "stream",
     "text": [
      "Epoch 1/100\n",
      "40/40 [==============================] - 9s 185ms/step - loss: 42453918810112.0000 - val_loss: 2.9373\n",
      "Epoch 2/100\n",
      "40/40 [==============================] - 7s 162ms/step - loss: 3.6388 - val_loss: 2.0588\n",
      "Epoch 3/100\n",
      "40/40 [==============================] - 6s 158ms/step - loss: 2.8183 - val_loss: 1.6143\n",
      "Epoch 4/100\n",
      "40/40 [==============================] - 7s 178ms/step - loss: 2.3858 - val_loss: 1.4523\n",
      "Epoch 5/100\n",
      "40/40 [==============================] - 7s 179ms/step - loss: 2.0916 - val_loss: 1.0884\n",
      "Epoch 6/100\n",
      "40/40 [==============================] - 7s 173ms/step - loss: 1.7482 - val_loss: 0.7090\n",
      "Epoch 7/100\n",
      "40/40 [==============================] - 6s 162ms/step - loss: 1.4593 - val_loss: 0.4253\n",
      "Epoch 8/100\n",
      "40/40 [==============================] - 7s 179ms/step - loss: 1.1335 - val_loss: 0.2196\n",
      "Epoch 9/100\n",
      "40/40 [==============================] - 7s 178ms/step - loss: 0.8598 - val_loss: 0.2614\n",
      "Epoch 10/100\n",
      "40/40 [==============================] - 7s 188ms/step - loss: 0.6988 - val_loss: 0.1248\n",
      "Epoch 11/100\n",
      "40/40 [==============================] - 7s 179ms/step - loss: 0.5497 - val_loss: 0.1551\n",
      "Epoch 12/100\n",
      "40/40 [==============================] - 7s 179ms/step - loss: 0.6831 - val_loss: 0.1263\n",
      "Epoch 13/100\n",
      "40/40 [==============================] - 7s 178ms/step - loss: 227204.5625 - val_loss: 3.2475\n",
      "Epoch 14/100\n",
      "40/40 [==============================] - 7s 176ms/step - loss: 3.2764 - val_loss: 0.7451\n",
      "Epoch 15/100\n",
      "40/40 [==============================] - 7s 176ms/step - loss: 1.5890 - val_loss: 0.7616\n",
      "Epoch 16/100\n",
      "40/40 [==============================] - 7s 176ms/step - loss: 1.2422 - val_loss: 0.2851\n",
      "Epoch 17/100\n",
      "40/40 [==============================] - 7s 178ms/step - loss: 1.3427 - val_loss: 0.6466\n",
      "Epoch 18/100\n",
      "40/40 [==============================] - 7s 181ms/step - loss: 1.9858 - val_loss: 0.6465\n",
      "Epoch 19/100\n",
      "40/40 [==============================] - 7s 179ms/step - loss: 4.4371 - val_loss: 7.6066\n",
      "Epoch 20/100\n",
      "40/40 [==============================] - 7s 181ms/step - loss: 153379962880.0000 - val_loss: 0.5068\n"
     ]
    }
   ],
   "source": [
    "es = EarlyStopping(patience=10,restore_best_weights=True)\n",
    "\n",
    "history = variational_ae.fit(X_train, X_train, epochs=100, batch_size=128, validation_data=[X_valid, X_valid], callbacks=[es])"
   ]
  },
  {
   "cell_type": "code",
   "execution_count": 130,
   "id": "4eba82ed",
   "metadata": {},
   "outputs": [],
   "source": [
    "codings = tf.random.normal(shape=[10, codings_size],stddev=5)\n",
    "images = variational_decoder(codings).numpy()"
   ]
  },
  {
   "cell_type": "code",
   "execution_count": null,
   "id": "68d1752b",
   "metadata": {},
   "outputs": [],
   "source": []
  },
  {
   "cell_type": "code",
   "execution_count": 98,
   "id": "b76498de",
   "metadata": {},
   "outputs": [
    {
     "data": {
      "text/plain": [
       "array([[[0.6327758 , 0.74103516, 0.7903381 , ..., 0.20205869,\n",
       "         0.22619635, 0.20258808],\n",
       "        [0.6753616 , 0.84314066, 0.9032041 , ..., 0.22054164,\n",
       "         0.21533056, 0.21599999],\n",
       "        [0.69581383, 0.864652  , 0.88367236, ..., 0.16687587,\n",
       "         0.16804776, 0.15785445],\n",
       "        ...,\n",
       "        [0.0153398 , 0.00774738, 0.00829817, ..., 0.00789314,\n",
       "         0.00765477, 0.00741565],\n",
       "        [0.01387767, 0.00796764, 0.00735624, ..., 0.00844955,\n",
       "         0.00812369, 0.00896422],\n",
       "        [0.01483026, 0.00718437, 0.00769193, ..., 0.00825522,\n",
       "         0.00704234, 0.00817455]],\n",
       "\n",
       "       [[0.60150856, 0.7099908 , 0.71171397, ..., 0.26882312,\n",
       "         0.28232867, 0.23994932],\n",
       "        [0.6363027 , 0.78653526, 0.8632339 , ..., 0.27132243,\n",
       "         0.25667948, 0.27437356],\n",
       "        [0.6619211 , 0.81168336, 0.8260922 , ..., 0.2353455 ,\n",
       "         0.21737741, 0.21198115],\n",
       "        ...,\n",
       "        [0.0303973 , 0.02108591, 0.02055879, ..., 0.02011283,\n",
       "         0.01974639, 0.02121885],\n",
       "        [0.03377379, 0.01957844, 0.02021033, ..., 0.0219113 ,\n",
       "         0.0226683 , 0.02146855],\n",
       "        [0.03277485, 0.01890719, 0.01694327, ..., 0.01917029,\n",
       "         0.01824478, 0.02261324]],\n",
       "\n",
       "       [[0.62004405, 0.7461465 , 0.7972494 , ..., 0.21987376,\n",
       "         0.21667916, 0.23414087],\n",
       "        [0.6640384 , 0.8463641 , 0.9071554 , ..., 0.21219076,\n",
       "         0.20870316, 0.2188644 ],\n",
       "        [0.69402313, 0.85041404, 0.8808858 , ..., 0.16529812,\n",
       "         0.16596924, 0.16176789],\n",
       "        ...,\n",
       "        [0.01759228, 0.00804235, 0.00881192, ..., 0.00831339,\n",
       "         0.00928302, 0.00801355],\n",
       "        [0.01497703, 0.00739853, 0.00776532, ..., 0.0088591 ,\n",
       "         0.00844371, 0.00934895],\n",
       "        [0.01614408, 0.00753302, 0.00861458, ..., 0.00903316,\n",
       "         0.00770112, 0.00902045]],\n",
       "\n",
       "       ...,\n",
       "\n",
       "       [[0.61495847, 0.73722816, 0.77503926, ..., 0.21542597,\n",
       "         0.22643264, 0.2185852 ],\n",
       "        [0.6491971 , 0.8241792 , 0.8822909 , ..., 0.23446472,\n",
       "         0.2444719 , 0.21099432],\n",
       "        [0.68884194, 0.856764  , 0.8729221 , ..., 0.17057197,\n",
       "         0.17210989, 0.17215703],\n",
       "        ...,\n",
       "        [0.02071641, 0.01028062, 0.01168122, ..., 0.01188246,\n",
       "         0.01160895, 0.00996839],\n",
       "        [0.01739936, 0.01192911, 0.00967168, ..., 0.01061797,\n",
       "         0.01043434, 0.01195192],\n",
       "        [0.01981623, 0.0096536 , 0.01138403, ..., 0.01056821,\n",
       "         0.01011255, 0.01050127]],\n",
       "\n",
       "       [[0.56894875, 0.6934845 , 0.76654166, ..., 0.2665037 ,\n",
       "         0.24642344, 0.26493856],\n",
       "        [0.64072067, 0.7953456 , 0.8597349 , ..., 0.27425945,\n",
       "         0.26149154, 0.24632272],\n",
       "        [0.6366337 , 0.80844146, 0.85027665, ..., 0.20066209,\n",
       "         0.2103592 , 0.20825258],\n",
       "        ...,\n",
       "        [0.0257997 , 0.01708943, 0.0166668 , ..., 0.0169753 ,\n",
       "         0.01822974, 0.01913072],\n",
       "        [0.03022841, 0.01691465, 0.01648067, ..., 0.01617951,\n",
       "         0.01797209, 0.01801493],\n",
       "        [0.02747941, 0.01898816, 0.01731256, ..., 0.01609308,\n",
       "         0.01729886, 0.01854839]],\n",
       "\n",
       "       [[0.6025869 , 0.7197837 , 0.7806413 , ..., 0.20275103,\n",
       "         0.23534188, 0.2098826 ],\n",
       "        [0.6724245 , 0.82435095, 0.88500166, ..., 0.24278167,\n",
       "         0.22903928, 0.21229582],\n",
       "        [0.68688685, 0.8491569 , 0.87282306, ..., 0.17884552,\n",
       "         0.18225347, 0.16965392],\n",
       "        ...,\n",
       "        [0.0181385 , 0.00987468, 0.01170412, ..., 0.01061904,\n",
       "         0.01026174, 0.01051514],\n",
       "        [0.01817429, 0.01110883, 0.00940032, ..., 0.00998125,\n",
       "         0.01052592, 0.01090861],\n",
       "        [0.01775859, 0.00976225, 0.01018961, ..., 0.01042244,\n",
       "         0.00957152, 0.01044864]]], dtype=float32)"
      ]
     },
     "execution_count": 98,
     "metadata": {},
     "output_type": "execute_result"
    }
   ],
   "source": [
    "images"
   ]
  },
  {
   "cell_type": "code",
   "execution_count": 40,
   "id": "d95eb660",
   "metadata": {
    "scrolled": false
   },
   "outputs": [
    {
     "name": "stdout",
     "output_type": "stream",
     "text": [
      "Model: \"model_6\"\n",
      "__________________________________________________________________________________________________\n",
      " Layer (type)                   Output Shape         Param #     Connected to                     \n",
      "==================================================================================================\n",
      " input_3 (InputLayer)           [(None, 256, 94)]    0           []                               \n",
      "                                                                                                  \n",
      " model_3 (Functional)           [(None, 10),         3626870     ['input_3[0][0]']                \n",
      "                                 (None, 10),                                                      \n",
      "                                 (None, 10)]                                                      \n",
      "                                                                                                  \n",
      " model_5 (Functional)           (None, 256, 94)      3649914     ['model_3[0][2]']                \n",
      "                                                                                                  \n",
      " flatten_1 (Flatten)            (None, 24064)        0           ['input_3[0][0]']                \n",
      "                                                                                                  \n",
      " dense_7 (Dense)                (None, 150)          3609750     ['flatten_1[0][0]']              \n",
      "                                                                                                  \n",
      " dense_8 (Dense)                (None, 100)          15100       ['dense_7[0][0]']                \n",
      "                                                                                                  \n",
      " dense_10 (Dense)               (None, 10)           1010        ['dense_8[0][0]']                \n",
      "                                                                                                  \n",
      " tf.__operators__.add_1 (TFOpLa  (None, 10)          0           ['dense_10[0][0]']               \n",
      " mbda)                                                                                            \n",
      "                                                                                                  \n",
      " tf.math.exp_1 (TFOpLambda)     (None, 10)           0           ['dense_10[0][0]']               \n",
      "                                                                                                  \n",
      " dense_9 (Dense)                (None, 10)           1010        ['dense_8[0][0]']                \n",
      "                                                                                                  \n",
      " tf.math.subtract_2 (TFOpLambda  (None, 10)          0           ['tf.__operators__.add_1[0][0]', \n",
      " )                                                                'tf.math.exp_1[0][0]']          \n",
      "                                                                                                  \n",
      " tf.math.square_1 (TFOpLambda)  (None, 10)           0           ['dense_9[0][0]']                \n",
      "                                                                                                  \n",
      " tf.math.subtract_3 (TFOpLambda  (None, 10)          0           ['tf.math.subtract_2[0][0]',     \n",
      " )                                                                'tf.math.square_1[0][0]']       \n",
      "                                                                                                  \n",
      " tf.math.reduce_sum_1 (TFOpLamb  (None,)             0           ['tf.math.subtract_3[0][0]']     \n",
      " da)                                                                                              \n",
      "                                                                                                  \n",
      " tf.math.multiply_2 (TFOpLambda  (None,)             0           ['tf.math.reduce_sum_1[0][0]']   \n",
      " )                                                                                                \n",
      "                                                                                                  \n",
      " tf.math.reduce_mean_1 (TFOpLam  ()                  0           ['tf.math.multiply_2[0][0]']     \n",
      " bda)                                                                                             \n",
      "                                                                                                  \n",
      " tf.math.truediv_1 (TFOpLambda)  ()                  0           ['tf.math.reduce_mean_1[0][0]']  \n",
      "                                                                                                  \n",
      " tf.math.multiply_3 (TFOpLambda  ()                  0           ['tf.math.truediv_1[0][0]']      \n",
      " )                                                                                                \n",
      "                                                                                                  \n",
      " add_loss_1 (AddLoss)           ()                   0           ['tf.math.multiply_3[0][0]']     \n",
      "                                                                                                  \n",
      "==================================================================================================\n",
      "Total params: 7,276,784\n",
      "Trainable params: 7,276,784\n",
      "Non-trainable params: 0\n",
      "__________________________________________________________________________________________________\n"
     ]
    }
   ],
   "source": [
    "variational_ae.summary()"
   ]
  },
  {
   "cell_type": "code",
   "execution_count": 41,
   "id": "3719cff7",
   "metadata": {},
   "outputs": [],
   "source": [
    "hop_length = 300\n",
    "win_length = 1200\n",
    "sr = 48000\n",
    "# spec = librosa.db_to_amplitude(images[5])"
   ]
  },
  {
   "cell_type": "code",
   "execution_count": null,
   "id": "c510c27c",
   "metadata": {},
   "outputs": [],
   "source": [
    "# signal = librosa.istft(spec, n_fft=1200, hop_length=hop_length, win_length=win_length, dtype='float32')\n",
    "# librosa.griffinlim(S, *, n_iter=32, hop_length=None, win_length=None, n_fft=None, window='hann', center=True, dtype=None, length=None, pad_mode='constant', momentum=0.99, init='random', random_state=None)\n",
    "f = librosa.griffinlim(images[1], n_iter=32, hop_length=300)\n",
    "# f = IPython.display.Audio(f, rate=48000)\n",
    "nred1 = nr.reduce_noise(y=f, sr=sr, stationary=True)\n",
    "# librosa.effects.pitch_shift(y, *, sr, n_steps, bins_per_octave=12, res_type='kaiser_best', **kwargs)\n",
    "# nred2 = librosa.effects.pitch_shift(nred, sr=sr, n_steps = -12, bins_per_octave=12, res_type='fft')\n",
    "nredkaiser = librosa.effects.pitch_shift(nred, sr=sr, n_steps = -12, bins_per_octave=12, res_type='kaiser_best')\n"
   ]
  },
  {
   "cell_type": "code",
   "execution_count": null,
   "id": "0c78ff18",
   "metadata": {},
   "outputs": [],
   "source": [
    "# librosa.pcen(S, *, sr=22050, hop_length=512, gain=0.98, bias=2, power=0.5, time_constant=0.4, eps=1e-06, b=None, max_size=1, ref=None, axis=-1, max_axis=None, zi=None, return_zf=False)"
   ]
  },
  {
   "cell_type": "code",
   "execution_count": 175,
   "id": "a8491835",
   "metadata": {},
   "outputs": [],
   "source": [
    "def postproc_and_play(generated_spectrogram):\n",
    "    #sample rate\n",
    "    sr = 48000\n",
    "    # random value to pitch down sample\n",
    "    pdown = random.uniform(-30, -16)\n",
    "    # spectrogram back to audio\n",
    "    new_kick = librosa.griffinlim(generated_spectrogram, n_iter=32, hop_length=300)\n",
    "    # noise reduction on audio\n",
    "    new_kick_nr = nr.reduce_noise(y=new_kick, sr=sr, stationary=True)\n",
    "    # pitch down audio by random amount\n",
    "    new_kick_final = librosa.effects.pitch_shift(new_kick_nr, sr=sr, n_steps = pdown, bins_per_octave=16, res_type='kaiser_best')\n",
    "    # display waveform and return player for audio file\n",
    "    librosa.display.waveshow(new_kick_final,sr=sr)\n",
    "    return IPython.display.Audio(new_kick_final, rate=sr)\n"
   ]
  },
  {
   "cell_type": "code",
   "execution_count": 178,
   "id": "cec6f576",
   "metadata": {},
   "outputs": [
    {
     "data": {
      "text/html": [
       "\n",
       "                <audio  controls=\"controls\" >\n",
       "                    <source src=\"data:audio/wav;base64,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\" type=\"audio/wav\" />\n",
       "                    Your browser does not support the audio element.\n",
       "                </audio>\n",
       "              "
      ],
      "text/plain": [
       "<IPython.lib.display.Audio object>"
      ]
     },
     "execution_count": 178,
     "metadata": {},
     "output_type": "execute_result"
    },
    {
     "data": {
      "image/png": "[encoded data removed]",
      "text/plain": [
       "<Figure size 640x480 with 1 Axes>"
      ]
     },
     "metadata": {},
     "output_type": "display_data"
    }
   ],
   "source": [
    "postproc_and_play(images[1])"
   ]
  },
  {
   "cell_type": "code",
   "execution_count": null,
   "id": "15d4ed23",
   "metadata": {
    "scrolled": true
   },
   "outputs": [],
   "source": [
    "postproc_and_play(images[1])"
   ]
  },
  {
   "cell_type": "code",
   "execution_count": null,
   "id": "09ab701d",
   "metadata": {},
   "outputs": [],
   "source": [
    "IPython.display.Audio(nred1, rate=sr)"
   ]
  },
  {
   "cell_type": "code",
   "execution_count": null,
   "id": "5d87a698",
   "metadata": {},
   "outputs": [],
   "source": [
    "IPython.display.Audio(nredkaiser, rate=sr)"
   ]
  },
  {
   "cell_type": "code",
   "execution_count": 48,
   "id": "7255b991",
   "metadata": {},
   "outputs": [],
   "source": [
    "new = librosa.griffinlim(images[1], n_iter=32, hop_length=300)"
   ]
  },
  {
   "cell_type": "code",
   "execution_count": 50,
   "id": "0e4f6004",
   "metadata": {},
   "outputs": [],
   "source": [
    "new_nr = nr.reduce_noise(y=new, sr=sr, stationary=True)\n"
   ]
  },
  {
   "cell_type": "code",
   "execution_count": 51,
   "id": "1d1630d1",
   "metadata": {},
   "outputs": [
    {
     "data": {
      "text/plain": [
       "<librosa.display.AdaptiveWaveplot at 0x139df15a0>"
      ]
     },
     "execution_count": 51,
     "metadata": {},
     "output_type": "execute_result"
    },
    {
     "data": {
      "image/png": "[encoded data removed]",
      "text/plain": [
       "<Figure size 640x480 with 1 Axes>"
      ]
     },
     "metadata": {},
     "output_type": "display_data"
    }
   ],
   "source": [
    "librosa.display.waveshow(new,sr=48000)"
   ]
  },
  {
   "cell_type": "code",
   "execution_count": 53,
   "id": "12ca8481",
   "metadata": {
    "scrolled": true
   },
   "outputs": [
    {
     "data": {
      "text/plain": [
       "<librosa.display.AdaptiveWaveplot at 0x13a502920>"
      ]
     },
     "execution_count": 53,
     "metadata": {},
     "output_type": "execute_result"
    },
    {
     "data": {
      "image/png": "[encoded data removed]",
      "text/plain": [
       "<Figure size 640x480 with 1 Axes>"
      ]
     },
     "metadata": {},
     "output_type": "display_data"
    }
   ],
   "source": [
    "librosa.display.waveshow(new_nr,sr=48000)"
   ]
  },
  {
   "cell_type": "code",
   "execution_count": null,
   "id": "a1e8b517",
   "metadata": {
    "scrolled": true
   },
   "outputs": [],
   "source": [
    "librosa.display.specshow(images[1])"
   ]
  },
  {
   "cell_type": "code",
   "execution_count": null,
   "id": "6e65d4d5",
   "metadata": {},
   "outputs": [],
   "source": [
    "# np.save(\"/Users/felixm/Downloads/\",images)"
   ]
  }
 ],
 "metadata": {
  "kernelspec": {
   "display_name": "Python 3 (ipykernel)",
   "language": "python",
   "name": "python3"
  },
  "language_info": {
   "codemirror_mode": {
    "name": "ipython",
    "version": 3
   },
   "file_extension": ".py",
   "mimetype": "text/x-python",
   "name": "python",
   "nbconvert_exporter": "python",
   "pygments_lexer": "ipython3",
   "version": "3.10.6"
  },
  "toc": {
   "base_numbering": 1,
   "nav_menu": {},
   "number_sections": true,
   "sideBar": true,
   "skip_h1_title": false,
   "title_cell": "Table of Contents",
   "title_sidebar": "Contents",
   "toc_cell": false,
   "toc_position": {},
   "toc_section_display": true,
   "toc_window_display": false
  },
  "vscode": {
   "interpreter": {
    "hash": "dfe2ca10e872574203673e5d239c2db1cc482c11f719045fc660e31bd90588a9"
   }
  }
 },
 "nbformat": 4,
 "nbformat_minor": 5
}
