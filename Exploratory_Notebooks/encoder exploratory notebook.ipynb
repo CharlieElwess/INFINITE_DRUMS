{
 "cells": [
  {
   "cell_type": "markdown",
   "id": "7736d7fd",
   "metadata": {},
   "source": [
    "The aim of an autoencoder is to use neural networks that return outputs that are similar to inputs. We will take advantage of this in order to create our own generative samples"
   ]
  },
  {
   "cell_type": "code",
   "execution_count": 1,
   "id": "cc811016",
   "metadata": {},
   "outputs": [
    {
     "name": "stderr",
     "output_type": "stream",
     "text": [
      "2022-11-30 09:47:36.171715: I tensorflow/core/platform/cpu_feature_guard.cc:193] This TensorFlow binary is optimized with oneAPI Deep Neural Network Library (oneDNN) to use the following CPU instructions in performance-critical operations:  AVX2 FMA\n",
      "To enable them in other operations, rebuild TensorFlow with the appropriate compiler flags.\n"
     ]
    }
   ],
   "source": [
    "from tensorflow.keras import Sequential\n",
    "from tensorflow.keras.layers import Conv2D, MaxPooling2D, Flatten, Dense\n",
    "\n",
    "def build_encoder(latent_dimension):\n",
    "    '''returns an encoder model, of output_shape equals to latent_dimension'''\n",
    "    encoder = Sequential()\n",
    "    \n",
    "    encoder.add(Conv2D(8, (2,2), input_shape=(28, 28, 1), activation='relu'))\n",
    "    encoder.add(MaxPooling2D(2))\n",
    "\n",
    "    encoder.add(Conv2D(16, (2, 2), activation='relu'))\n",
    "    encoder.add(MaxPooling2D(2))\n",
    "\n",
    "    encoder.add(Conv2D(32, (2, 2), activation='relu'))\n",
    "    encoder.add(MaxPooling2D(2))     \n",
    "\n",
    "    encoder.add(Flatten())\n",
    "    encoder.add(Dense(latent_dimension, activation='tanh'))\n",
    "    \n",
    "    return encoder"
   ]
  },
  {
   "cell_type": "code",
   "execution_count": 3,
   "id": "9bfac6ca",
   "metadata": {},
   "outputs": [],
   "source": [
    "from tensorflow.keras.layers import Reshape, Conv2DTranspose\n",
    "\n",
    "def build_decoder(latent_dimension):\n",
    "    \n",
    "    decoder = Sequential()\n",
    "    \n",
    "    decoder.add(Dense(7*7*8, activation='tanh', input_shape=(latent_dimension,)))\n",
    "    decoder.add(Reshape((7, 7, 8)))  # no batch axis here\n",
    "    decoder.add(Conv2DTranspose(8, (2, 2), strides=2, padding='same', activation='relu'))\n",
    "\n",
    "    decoder.add(Conv2DTranspose(1, (2, 2), strides=2, padding='same', activation='relu'))\n",
    "    return decoder"
   ]
  },
  {
   "cell_type": "code",
   "execution_count": 12,
   "id": "317a5c24",
   "metadata": {},
   "outputs": [],
   "source": [
    "from tensorflow.keras import Model\n",
    "from tensorflow.keras.layers import Input\n",
    "\n",
    "def build_autoencoder(encoder, decoder):\n",
    "    inp = Input((28, 28,1))\n",
    "    encoded = encoder(inp)\n",
    "    decoded = decoder(encoded)\n",
    "    autoencoder = Model(inp, decoded)\n",
    "    return autoencoder"
   ]
  },
  {
   "cell_type": "code",
   "execution_count": 2,
   "id": "55c9f6ea",
   "metadata": {},
   "outputs": [],
   "source": [
    "latent_dimension=2"
   ]
  },
  {
   "cell_type": "code",
   "execution_count": 6,
   "id": "f5aea769",
   "metadata": {},
   "outputs": [],
   "source": [
    "from tensorflow.keras import losses"
   ]
  },
  {
   "cell_type": "code",
   "execution_count": 9,
   "id": "8a7ebc0c",
   "metadata": {},
   "outputs": [],
   "source": [
    "loss=losses.kullback_leibler_divergence"
   ]
  },
  {
   "cell_type": "code",
   "execution_count": 4,
   "id": "0a3259e2",
   "metadata": {},
   "outputs": [
    {
     "name": "stderr",
     "output_type": "stream",
     "text": [
      "2022-11-30 10:05:46.612851: I tensorflow/core/platform/cpu_feature_guard.cc:193] This TensorFlow binary is optimized with oneAPI Deep Neural Network Library (oneDNN) to use the following CPU instructions in performance-critical operations:  AVX2 FMA\n",
      "To enable them in other operations, rebuild TensorFlow with the appropriate compiler flags.\n"
     ]
    }
   ],
   "source": [
    "encoder = build_encoder(latent_dimension=latent_dimension)"
   ]
  },
  {
   "cell_type": "code",
   "execution_count": 10,
   "id": "e2586d04",
   "metadata": {},
   "outputs": [],
   "source": [
    "decoder = build_decoder(latent_dimension=latent_dimension)"
   ]
  },
  {
   "cell_type": "code",
   "execution_count": 14,
   "id": "cb935215",
   "metadata": {},
   "outputs": [],
   "source": [
    "autoencoder = build_autoencoder(encoder, decoder)"
   ]
  },
  {
   "cell_type": "code",
   "execution_count": 16,
   "id": "65e2314f",
   "metadata": {},
   "outputs": [],
   "source": [
    "def compile_autoencoder(autoencoder):\n",
    "    autoencoder.compile(loss=loss,\n",
    "                  optimizer='adam')"
   ]
  },
  {
   "cell_type": "code",
   "execution_count": 17,
   "id": "60262315",
   "metadata": {},
   "outputs": [],
   "source": [
    "compile_autoencoder(autoencoder)"
   ]
  },
  {
   "cell_type": "markdown",
   "id": "48a0e7e6",
   "metadata": {},
   "source": [
    "data import here, 1000 first, 80,20 split"
   ]
  },
  {
   "cell_type": "code",
   "execution_count": null,
   "id": "8dd044c5",
   "metadata": {},
   "outputs": [],
   "source": []
  },
  {
   "cell_type": "markdown",
   "id": "b69c03fa",
   "metadata": {},
   "source": [
    "Fit"
   ]
  },
  {
   "cell_type": "code",
   "execution_count": 19,
   "id": "c1fb21fb",
   "metadata": {},
   "outputs": [
    {
     "ename": "NameError",
     "evalue": "name 'X_train' is not defined",
     "output_type": "error",
     "traceback": [
      "\u001b[0;31m---------------------------------------------------------------------------\u001b[0m",
      "\u001b[0;31mNameError\u001b[0m                                 Traceback (most recent call last)",
      "Cell \u001b[0;32mIn[19], line 5\u001b[0m\n\u001b[1;32m      1\u001b[0m \u001b[38;5;28;01mfrom\u001b[39;00m \u001b[38;5;21;01mtensorflow\u001b[39;00m\u001b[38;5;21;01m.\u001b[39;00m\u001b[38;5;21;01mkeras\u001b[39;00m\u001b[38;5;21;01m.\u001b[39;00m\u001b[38;5;21;01mcallbacks\u001b[39;00m \u001b[38;5;28;01mimport\u001b[39;00m EarlyStopping\n\u001b[1;32m      3\u001b[0m es \u001b[38;5;241m=\u001b[39m EarlyStopping(patience\u001b[38;5;241m=\u001b[39m\u001b[38;5;241m5\u001b[39m, restore_best_weights\u001b[38;5;241m=\u001b[39m\u001b[38;5;28;01mTrue\u001b[39;00m)\n\u001b[0;32m----> 5\u001b[0m autoencoder\u001b[38;5;241m.\u001b[39mfit(\u001b[43mX_train\u001b[49m, X_test, epochs \u001b[38;5;241m=\u001b[39m \u001b[38;5;241m20\u001b[39m, batch_size \u001b[38;5;241m=\u001b[39m \u001b[38;5;241m32\u001b[39m, callbacks\u001b[38;5;241m=\u001b[39m[es], verbose\u001b[38;5;241m=\u001b[39m\u001b[38;5;241m1\u001b[39m)\n",
      "\u001b[0;31mNameError\u001b[0m: name 'X_train' is not defined"
     ]
    }
   ],
   "source": [
    "from tensorflow.keras.callbacks import EarlyStopping\n",
    "\n",
    "es = EarlyStopping(patience=5, restore_best_weights=True)\n",
    "\n",
    "autoencoder.fit(X_train, X_test, epochs = 20, batch_size = 32, callbacks=[es], verbose=1)"
   ]
  },
  {
   "cell_type": "markdown",
   "id": "ff03f8a6",
   "metadata": {},
   "source": []
  }
 ],
 "metadata": {
  "kernelspec": {
   "display_name": "Python 3 (ipykernel)",
   "language": "python",
   "name": "python3"
  },
  "language_info": {
   "codemirror_mode": {
    "name": "ipython",
    "version": 3
   },
   "file_extension": ".py",
   "mimetype": "text/x-python",
   "name": "python",
   "nbconvert_exporter": "python",
   "pygments_lexer": "ipython3",
   "version": "3.10.6"
  },
  "toc": {
   "base_numbering": 1,
   "nav_menu": {},
   "number_sections": true,
   "sideBar": true,
   "skip_h1_title": false,
   "title_cell": "Table of Contents",
   "title_sidebar": "Contents",
   "toc_cell": false,
   "toc_position": {},
   "toc_section_display": true,
   "toc_window_display": false
  }
 },
 "nbformat": 4,
 "nbformat_minor": 5
}
