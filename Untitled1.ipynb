{
 "cells": [
  {
   "cell_type": "markdown",
   "id": "50f55a48",
   "metadata": {},
   "source": [
    "for each file in this folder I want to:\n",
    "load it using librosa\n",
    "convert it to "
   ]
  },
  {
   "cell_type": "code",
   "execution_count": 1,
   "id": "40f07175",
   "metadata": {},
   "outputs": [],
   "source": [
    "import os\n",
    "import pickle\n",
    "import seaborn as sns\n",
    "import librosa\n",
    "from librosa import display\n",
    "import numpy as np\n",
    "from glob import glob"
   ]
  },
  {
   "cell_type": "code",
   "execution_count": 50,
   "id": "aa1bc7f8",
   "metadata": {},
   "outputs": [],
   "source": [
    "import imageio\n",
    "import time\n",
    "import tensorflow as tf\n",
    "from tensorflow.keras import layers\n",
    "from IPython import display\n",
    "import matplotlib.pyplot as plt\n",
    "%matplotlib inline\n",
    "from tensorflow import keras"
   ]
  },
  {
   "cell_type": "code",
   "execution_count": 58,
   "id": "bea31b93",
   "metadata": {},
   "outputs": [],
   "source": [
    "import PIL"
   ]
  },
  {
   "cell_type": "code",
   "execution_count": 23,
   "id": "962bba33",
   "metadata": {},
   "outputs": [],
   "source": [
    "data_dir = '/Users/felixm/Downloads/First_Kick_Spectrograms/'"
   ]
  },
  {
   "cell_type": "code",
   "execution_count": 22,
   "id": "69d284bd",
   "metadata": {},
   "outputs": [],
   "source": [
    "audiofiles = glob(data_dir + '/*.wav.npy')"
   ]
  },
  {
   "cell_type": "code",
   "execution_count": null,
   "id": "3194bbbe",
   "metadata": {},
   "outputs": [],
   "source": []
  },
  {
   "cell_type": "code",
   "execution_count": 43,
   "id": "12891ca6",
   "metadata": {},
   "outputs": [],
   "source": [
    "def load_data(path):\n",
    "    X = []\n",
    "    \n",
    "    audiofiles = glob(data_dir + '/*.wav.npy')\n",
    "    \n",
    "    for file in audiofiles:\n",
    "        \n",
    "        X.append(np.load(file))\n",
    "        \n",
    "        \n",
    "    return np.array(X)\n",
    "    \n",
    "   "
   ]
  },
  {
   "cell_type": "code",
   "execution_count": 44,
   "id": "2c175884",
   "metadata": {},
   "outputs": [],
   "source": [
    "data = load_data(data_dir)"
   ]
  },
  {
   "cell_type": "code",
   "execution_count": 53,
   "id": "adc38bd4",
   "metadata": {},
   "outputs": [
    {
     "name": "stderr",
     "output_type": "stream",
     "text": [
      "2022-11-29 17:07:47.971606: I tensorflow/core/platform/cpu_feature_guard.cc:193] This TensorFlow binary is optimized with oneAPI Deep Neural Network Library (oneDNN) to use the following CPU instructions in performance-critical operations:  AVX2 FMA\n",
      "To enable them in other operations, rebuild TensorFlow with the appropriate compiler flags.\n"
     ]
    }
   ],
   "source": [
    "from tensorflow.keras.backend import expand_dims\n",
    "data = expand_dims(data, axis=-1)"
   ]
  },
  {
   "cell_type": "code",
   "execution_count": 55,
   "id": "4e8c99f2",
   "metadata": {},
   "outputs": [
    {
     "data": {
      "text/plain": [
       "TensorShape([6561, 256, 188, 1])"
      ]
     },
     "execution_count": 55,
     "metadata": {},
     "output_type": "execute_result"
    }
   ],
   "source": [
    "data.shape"
   ]
  },
  {
   "cell_type": "code",
   "execution_count": null,
   "id": "64808b13",
   "metadata": {},
   "outputs": [],
   "source": []
  },
  {
   "cell_type": "code",
   "execution_count": null,
   "id": "8ad42f7a",
   "metadata": {},
   "outputs": [],
   "source": []
  }
 ],
 "metadata": {
  "kernelspec": {
   "display_name": "Python 3 (ipykernel)",
   "language": "python",
   "name": "python3"
  },
  "language_info": {
   "codemirror_mode": {
    "name": "ipython",
    "version": 3
   },
   "file_extension": ".py",
   "mimetype": "text/x-python",
   "name": "python",
   "nbconvert_exporter": "python",
   "pygments_lexer": "ipython3",
   "version": "3.10.6"
  },
  "toc": {
   "base_numbering": 1,
   "nav_menu": {},
   "number_sections": true,
   "sideBar": true,
   "skip_h1_title": false,
   "title_cell": "Table of Contents",
   "title_sidebar": "Contents",
   "toc_cell": false,
   "toc_position": {},
   "toc_section_display": true,
   "toc_window_display": false
  },
  "vscode": {
   "interpreter": {
    "hash": "dfe2ca10e872574203673e5d239c2db1cc482c11f719045fc660e31bd90588a9"
   }
  }
 },
 "nbformat": 4,
 "nbformat_minor": 5
}
